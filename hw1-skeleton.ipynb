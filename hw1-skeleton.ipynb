{
 "cells": [
  {
   "cell_type": "markdown",
   "metadata": {},
   "source": [
    "# HW1 布尔检索\n",
    "\n",
    "本次作业使用斯坦福大学[CS 276 / LING 286: Information Retrieval and Web Search](https://web.stanford.edu/class/cs276/)课程的代码框架来实现。具体来说主要包含的内容有：\n",
    "1. [索引构建 (40%)](#索引构建与检索-(40%)) 使用BSBI方法模拟在内存不足的情况下的索引构建方式，并应用于布尔查询\n",
    "2. [索引压缩 (30%)](#索引压缩-(30%)) 使用可变长编码对构建的索引进行压缩\n",
    "3. [布尔检索 (10%)](#布尔联合检索-(10%)) 对空格分隔的单词查询进行联合（与）布尔检索\n",
    "3. [实验报告 (10%)](#Report-(25%)) 描述你的代码并回答一些问题\n",
    "4. [额外的编码方式 (10%)](#额外的编码方式-(10%)) 鼓励使用额外的编码方式对索引进行压缩 (例如, gamma-encoding)"
   ]
  },
  {
   "cell_type": "code",
   "execution_count": 1,
   "metadata": {},
   "outputs": [],
   "source": [
    "# You can add additional imports here\n",
    "import sys\n",
    "import pickle as pkl\n",
    "import array\n",
    "import os\n",
    "import timeit \n",
    "import contextlib\n",
    "import jieba\n",
    "import re\n"
   ]
  },
  {
   "cell_type": "code",
   "execution_count": 2,
   "metadata": {},
   "outputs": [
    {
     "name": "stdout",
     "output_type": "stream",
     "text": [
      "1\n"
     ]
    }
   ],
   "source": [
    "print(\"1\")"
   ]
  },
  {
   "cell_type": "markdown",
   "metadata": {},
   "source": [
    "# 数据集"
   ]
  },
  {
   "cell_type": "markdown",
   "metadata": {},
   "source": [
    "实验使用的文本数据是stanford.edu域下的网页内容，可从http://web.stanford.edu/class/cs276/pa/pa1-data.zip 下载。以下代码将大约170MB的文本数据下载到当前目录下，"
   ]
  },
  {
   "cell_type": "code",
   "execution_count": 3,
   "metadata": {},
   "outputs": [],
   "source": [
    "import urllib.request\n",
    "import zipfile\n",
    "\n",
    "#data_url = 'http://web.stanford.edu/class/cs276/pa/pa1-data.zip'\n",
    "data_dir = 'pa1-data'\n",
    "#urllib.request.urlretrieve(data_url, data_dir+'.zip')\n",
    "zip_ref = zipfile.ZipFile(data_dir+'.zip', 'r')\n",
    "zip_ref.extractall()\n",
    "zip_ref.close()"
   ]
  },
  {
   "cell_type": "markdown",
   "metadata": {},
   "source": [
    "之后构建的索引会被存储到`output_dir`，`tmp`会存储测试数据（toy-data）所生成的一些临时文件"
   ]
  },
  {
   "cell_type": "code",
   "execution_count": 4,
   "metadata": {},
   "outputs": [],
   "source": [
    "try: \n",
    "    os.mkdir('output_dir')\n",
    "except FileExistsError:\n",
    "    pass\n",
    "try: \n",
    "    os.mkdir('tmp')\n",
    "except FileExistsError:\n",
    "    pass\n",
    "try: \n",
    "    os.mkdir('toy_output_dir')\n",
    "except FileExistsError:\n",
    "    pass"
   ]
  },
  {
   "cell_type": "markdown",
   "metadata": {},
   "source": [
    "在数据目录下有10个子目录（命名0-9）"
   ]
  },
  {
   "cell_type": "code",
   "execution_count": 5,
   "metadata": {},
   "outputs": [
    {
     "data": {
      "text/plain": [
       "['0', '1', '2', '3', '4', '5', '6', '7', '8', '9']"
      ]
     },
     "execution_count": 5,
     "metadata": {},
     "output_type": "execute_result"
    }
   ],
   "source": [
    "sorted(os.listdir('pa1-data'))"
   ]
  },
  {
   "cell_type": "markdown",
   "metadata": {},
   "source": [
    "每一个子目录下的文件都包含一个独立网页的内容。可以认为在同一子目录下没有同名文件，即每个文件的绝对路径不会相同。"
   ]
  },
  {
   "cell_type": "code",
   "execution_count": 6,
   "metadata": {},
   "outputs": [
    {
     "data": {
      "text/plain": [
       "['3dradiology.stanford.edu_',\n",
       " '3dradiology.stanford.edu_patient_care_Case%2520studies_AVM.html',\n",
       " '3dradiology.stanford.edu_patient_care_case_studies.html',\n",
       " '5-sure.stanford.edu_',\n",
       " '50years.stanford.edu_',\n",
       " 'a3cservices.stanford.edu_awards_nominate_',\n",
       " 'a3cservices.stanford.edu_facilities_',\n",
       " 'a3cservices.stanford.edu_lead_',\n",
       " 'aa.stanford.edu_',\n",
       " 'aa.stanford.edu_about_aviation.php']"
      ]
     },
     "execution_count": 6,
     "metadata": {},
     "output_type": "execute_result"
    }
   ],
   "source": [
    "sorted(os.listdir('pa1-data/0'))[:10]"
   ]
  },
  {
   "cell_type": "markdown",
   "metadata": {},
   "source": [
    "所有的网页内容已经经过处理，仅包含由空格分隔开的单词，不再需要进行额外的标准化工作。"
   ]
  },
  {
   "cell_type": "code",
   "execution_count": 7,
   "metadata": {},
   "outputs": [
    {
     "name": "stdout",
     "output_type": "stream",
     "text": [
      "3d radiology lab stanford university school of medicine stanford school of medicine 3d and quantitative imaging in the department of radiology search this site only stanford medical sites ways to give find a person alumni lane library ways to give find a person about us mission to develop and apply innovative techniques for efficient quantitative analysis and display of medical imaging data through interdisciplinary collaboration goals education to train physicians and technologists locally and worldwide in the latest developments in 3d and quantitative imaging research to develop new approaches to the exploration analysis and quantitative assesment of diagnostic images that result in a new and or more cost effective diagnostic approaches and b new techniques for the design and planning and monitoring of therapy patient care to deliver valid clinically relevant visualization and analysis of medical imaging data to the stanford community locations richard m lucas magnetic resonance imaging center 1201 welch rd p170 stanford ca 94305 5488 650 725 8432 james h clark center 318 campus drive s344 stanford ca 94305 5450 650 725 6862 directions to the 3qd lab local hotels you are here stanford medicine school of medicine departments radiology 3dq laboratory navigation for this section 3dq laboratory home education research patient care industry about us site navigation home education overview visiting fellowships reading list research overview research activities research opportunities patient care overview for physicians for patients protocol development 3dq management software case studies testimonials industry overview infrastructure and services about us faculty and staff history of the lab resources and equipment contact information jobs getting to the 3dq lab stanford medicine resources stanford medicine getting care overview find a physician find a clinical care center stanford hospital & clinics lucile packard children's hospital emergency research overview school of medicine news & resources clinical trials departments institutes & centers faculty profiles education & training overview school of medicine programs admissions continuing medical education alumni lane medical library community overview stanford health library community newsletter volunteering public service & community partnerships renewal & new building projects about us overview news careers ways to give find a person contact us maps & directions the dean's newsletter stanford university footer links contact us directions members only 2009 stanford school of medicine terms of use powered by irt\n",
      "\n"
     ]
    }
   ],
   "source": [
    "with open('pa1-data/0/3dradiology.stanford.edu_', 'r') as f:\n",
    "    print(f.read())"
   ]
  },
  {
   "cell_type": "markdown",
   "metadata": {},
   "source": [
    "作业目录下有一个小的数据集文件夹`toy-data`。在使用完整网页数据集之前，我们会用它来测试我们的代码是否正确。"
   ]
  },
  {
   "cell_type": "code",
   "execution_count": 8,
   "metadata": {},
   "outputs": [],
   "source": [
    "toy_dir = 'toy-data'"
   ]
  },
  {
   "cell_type": "markdown",
   "metadata": {},
   "source": [
    "# 索引构建与检索 (40%)"
   ]
  },
  {
   "cell_type": "markdown",
   "metadata": {},
   "source": [
    "作业的第一部分是使用**blocked sort-based indexing (BSBI)** 算法来构建倒排索引并实现布尔检索。关于BSBI算法可以参考老师课件或者斯坦福教材[Section 4.2](http://nlp.stanford.edu/IR-book/pdf/04const.pdf)。以下摘自教材内容\n",
    "\n",
    "> To construct an index, we first make a pass through the collection assembling all term-docID pairs. We then sort the pairs with the term as the dominant key and docID as the secondary key. Finally, we organize the docIDs for each term into a postings list and compute statistics like term and document frequency. For small collections, all this can be done in memory. \n",
    "\n",
    "对于无法在内存一次性处理的较大数据集，将会使用到二级存储（如：磁盘）。"
   ]
  },
  {
   "cell_type": "markdown",
   "metadata": {},
   "source": [
    "## IdMap\n",
    "\n",
    "再次引用教材 Section 4.2:\n",
    "\n",
    "> To make index construction more efficient, we represent terms as termIDs (instead of strings), where each termID is a unique serial number. We can build the mapping from terms to termIDs on the fly while we are processing the collection. Similarly, we also represent documents as docIDs (instead of strings).\n",
    "\n",
    "我们首先定义一个辅助类`IdMap`，用于将字符串和数字ID进行相互映射，以满足我们在term和termID、doc和docID间转换的需求。\n",
    "\n",
    "实现以下代码中的`_get_str` 和 `_get_id`函数，IdMap类的唯一接口是`__getitem__`，它是一个特殊函数，重写了下标运算`[]`,根据下标运算键的类型得到正确的映射值（如果不存在需要添加）。（特殊函数可参考[官方文档](https://docs.python.org/3.7/reference/datamodel.html#special-method-names)）\n",
    "<br>\n",
    "<br>\n",
    "我们会用到字典来将字符串转换为数字，用列表来将数字转换为字符串。"
   ]
  },
  {
   "cell_type": "code",
   "execution_count": 9,
   "metadata": {},
   "outputs": [],
   "source": [
    "class IdMap:\n",
    "    \"\"\"Helper class to store a mapping from strings to ids.\"\"\"\n",
    "    def __init__(self):\n",
    "        self.str_to_id = {}\n",
    "        self.id_to_str = []\n",
    "        \n",
    "    def __len__(self):\n",
    "        \"\"\"Return number of terms stored in the IdMap\"\"\"\n",
    "        return len(self.id_to_str)\n",
    "        \n",
    "    def _get_str(self, i):\n",
    "        \"\"\"Returns the string corresponding to a given id (`i`).\"\"\"\n",
    "        ### Begin your code\n",
    "        return self.id_to_str[i]\n",
    "        ### End your code\n",
    "        \n",
    "    def _get_id(self, s):\n",
    "        \"\"\"Returns the id corresponding to a string (`s`). S\n",
    "        If `s` is not in the IdMap yet, then assigns a new id and returns the new id.\n",
    "        \"\"\"\n",
    "        ### Begin your code\n",
    "        for key in  self.str_to_id:\n",
    "            if key==s:\n",
    "                return self.str_to_id[s]\n",
    "        else:\n",
    "            t=len(self.str_to_id)\n",
    "            self.str_to_id[s]=t\n",
    "            self.id_to_str.append(s)\n",
    "            return t\n",
    "            \n",
    "\n",
    "        ### End your code\n",
    "            \n",
    "    def __getitem__(self, key):\n",
    "        \"\"\"If `key` is a integer, use _get_str; \n",
    "           If `key` is a string, use _get_id;\"\"\"\n",
    "        if type(key) is int:\n",
    "            return self._get_str(key)\n",
    "        elif type(key) is str:\n",
    "            return self._get_id(key)\n",
    "        else:\n",
    "            raise TypeError"
   ]
  },
  {
   "cell_type": "markdown",
   "metadata": {},
   "source": [
    "确保代码能通过以下简单测试样例"
   ]
  },
  {
   "cell_type": "code",
   "execution_count": 10,
   "metadata": {},
   "outputs": [
    {
     "name": "stdout",
     "output_type": "stream",
     "text": [
      "{'a': 0, 'bcd': 1}\n"
     ]
    }
   ],
   "source": [
    "testIdMap = IdMap()\n",
    "assert testIdMap['a'] == 0, \"Unable to add a new string to the IdMap\"\n",
    "assert testIdMap['bcd'] == 1, \"Unable to add a new string to the IdMap\"\n",
    "assert testIdMap['a'] == 0, \"Unable to retrieve the id of an existing string\"\n",
    "print(testIdMap.str_to_id)\n",
    "assert testIdMap[1] == 'bcd', \"Unable to retrive the string corresponding to a\\\n",
    "                                given id\"\n",
    "try:\n",
    "    testIdMap[2]\n",
    "except IndexError as e:\n",
    "    assert True, \"Doesn't throw an IndexError for out of range numeric ids\"\n",
    "assert len(testIdMap) == 2"
   ]
  },
  {
   "cell_type": "markdown",
   "metadata": {},
   "source": [
    "之后会需要你自己来写测试样例来确保你的程序正常运行"
   ]
  },
  {
   "cell_type": "markdown",
   "metadata": {
    "tags": []
   },
   "source": [
    "## 将倒排列表编码成字节数组\n",
    "\n",
    "为了高效地从磁盘读写倒排列表（文档ID），我们将其存储为字节数组的形式。代码提供了`UncompressedPostings`类来用静态函数实现对倒排列表的编码和解码。在之后的任务中你需要使用该接口实现索引压缩版本（可变长编码）。\n",
    "\n",
    "参考:\n",
    "1. https://docs.python.org/3/library/array.html\n",
    "2. https://pymotw.com/3/array/#module-array"
   ]
  },
  {
   "cell_type": "code",
   "execution_count": 11,
   "metadata": {},
   "outputs": [],
   "source": [
    "class UncompressedPostings:\n",
    "    \n",
    "    @staticmethod\n",
    "    def encode(postings_list):\n",
    "        \"\"\"Encodes postings_list into a stream of bytes\n",
    "        \n",
    "        Parameters\n",
    "        ----------\n",
    "        postings_list: List[int]\n",
    "            List of docIDs (postings)\n",
    "            \n",
    "        Returns\n",
    "        -------\n",
    "        bytes\n",
    "            bytearray representing integers in the postings_list\n",
    "        \"\"\"\n",
    "        return array.array('L', postings_list).tobytes()\n",
    "        \n",
    "    @staticmethod\n",
    "    def decode(encoded_postings_list):\n",
    "        \"\"\"Decodes postings_list from a stream of bytes\n",
    "        \n",
    "        Parameters\n",
    "        ----------\n",
    "        \n",
    "        encoded_postings_list: bytes\n",
    "            bytearray representing encoded postings list as output by encode \n",
    "            function\n",
    "             \n",
    "        Returns\n",
    "        -------\n",
    "        List[int]\n",
    "            Decoded list of docIDs from encoded_postings_list\n",
    "            \n",
    "        \"\"\"\n",
    "        \n",
    "        decoded_postings_list = array.array('L')\n",
    "        decoded_postings_list.frombytes(encoded_postings_list)\n",
    "        return decoded_postings_list.tolist()"
   ]
  },
  {
   "cell_type": "markdown",
   "metadata": {},
   "source": [
    "运行以下代码查看其工作方式"
   ]
  },
  {
   "cell_type": "code",
   "execution_count": 12,
   "metadata": {},
   "outputs": [
    {
     "name": "stdout",
     "output_type": "stream",
     "text": [
      "b'\\x01\\x00\\x00\\x00\\x02\\x00\\x00\\x00\\x03\\x00\\x00\\x00\\x04\\x00\\x00\\x00\\x05\\x00\\x00\\x00\\x06\\x00\\x00\\x00\\x07\\x00\\x00\\x00'\n"
     ]
    }
   ],
   "source": [
    "x = UncompressedPostings.encode([1,2,3,4,5,6,7])\n",
    "print(x)"
   ]
  },
  {
   "cell_type": "markdown",
   "metadata": {},
   "source": [
    "## 磁盘上的倒排索引\n",
    "\n",
    "> With main memory insufficient, we need to use an external sorting algorithm, that is, one that uses disk. For acceptable speed, the central requirement of such an algorithm is that it minimize the number of random disk seeks during sorting - sequential disk reads are far faster than seeks. \n",
    "\n",
    "在这一部分我们提供了一个基类`InvertedIndex`，之后会在此基础上构建它的子类`InvertedIndexWriter`, `InvertedIndexIterator` 和 `InvertedIndexMapper`。在Python中我们常用`cPickle`进行序列化，但是它并不支持部分读和部分写，无法满足BSBI算法的需要，所以我们需要定义自己的存储方式。"
   ]
  },
  {
   "cell_type": "code",
   "execution_count": 13,
   "metadata": {},
   "outputs": [],
   "source": [
    "class InvertedIndex:\n",
    "    \"\"\"A class that implements efficient reads and writes of an inverted index \n",
    "    to disk\n",
    "    \n",
    "    Attributes\n",
    "    ----------\n",
    "    postings_dict: Dictionary mapping: termID->(start_position_in_index_file, \n",
    "                                                number_of_postings_in_list,\n",
    "                                               length_in_bytes_of_postings_list)\n",
    "        This is a dictionary that maps from termIDs to a 3-tuple of metadata \n",
    "        that is helpful in reading and writing the postings in the index file \n",
    "        to/from disk. This mapping is supposed to be kept in memory. \n",
    "        start_position_in_index_file is the position (in bytes) of the postings \n",
    "        list in the index file\n",
    "        number_of_postings_in_list is the number of postings (docIDs) in the \n",
    "        postings list\n",
    "        length_in_bytes_of_postings_list is the length of the byte \n",
    "        encoding of the postings list\n",
    "    \n",
    "    terms: List[int]\n",
    "        A list of termIDs to remember the order in which terms and their \n",
    "        postings lists were added to index. \n",
    "        \n",
    "        After Python 3.7 we technically no longer need it because a Python dict \n",
    "        is an OrderedDict, but since it is a relatively new feature, we still\n",
    "        maintain backward compatibility with a list to keep track of order of \n",
    "        insertion. \n",
    "    \"\"\"\n",
    "    def __init__(self, index_name, postings_encoding=None, directory=''):\n",
    "        \"\"\"\n",
    "        Parameters\n",
    "        index_name (str): Name used to store files related to the index\n",
    "        postings_encoding: A class implementing static methods for encoding and \n",
    "            decoding lists of integers. Default is None, which gets replaced\n",
    "            with UncompressedPostings\n",
    "        directory (str): Directory where the index files will be stored\n",
    "        \"\"\"\n",
    "\n",
    "        self.index_file_path = os.path.join(directory, index_name+'.index')\n",
    "        self.metadata_file_path = os.path.join(directory, index_name+'.dict')\n",
    "        if postings_encoding is None:\n",
    "            self.postings_encoding = UncompressedPostings\n",
    "        else:\n",
    "            self.postings_encoding = postings_encoding\n",
    "        self.directory = directory\n",
    "        self.postings_dict = {}\n",
    "        self.terms = []         #Need to keep track of the order in which the \n",
    "                                #terms were inserted. Would be unnecessary \n",
    "                                #from Python 3.7 onward\n",
    "\n",
    "    def __enter__(self):\n",
    "        \"\"\"Opens the index_file and loads metadata upon entering the context\"\"\"\n",
    "        # Open the index file\n",
    "        self.index_file = open(self.index_file_path, 'rb+')\n",
    "\n",
    "        # Load the postings dict and terms from the metadata file\n",
    "        with open(self.metadata_file_path, 'rb') as f:\n",
    "            self.postings_dict, self.terms = pkl.load(f)\n",
    "            self.term_iter = self.terms.__iter__()\n",
    "            \n",
    "\n",
    "        return self\n",
    "    \n",
    "    def __exit__(self, exception_type, exception_value, traceback):\n",
    "        \"\"\"Closes the index_file and saves metadata upon exiting the context\"\"\"\n",
    "        # Close the index file\n",
    "        self.index_file.close()\n",
    "        \n",
    "        # Write the postings dict and terms to the metadata file\n",
    "        with open(self.metadata_file_path, 'wb') as f:\n",
    "            pkl.dump([self.postings_dict, self.terms], f)"
   ]
  },
  {
   "cell_type": "markdown",
   "metadata": {},
   "source": [
    "因为是在与磁盘上的文件进行交互，所以我们提供了`__enter__`和`__exit__`函数，它使得我们能够像使用python中文件IO一样使用`with`语句。（参考[上下文管理器官方文档](https://docs.python.org/3/library/contextlib.html)）\n",
    "\n",
    "以下是使用 `InvertedIndexWriter` 上下文管理器的实例:\n",
    "\n",
    "```python\n",
    "with InvertedIndexWriter('test', directory='tmp/') as index:\n",
    "    # Some code here\n",
    "```"
   ]
  },
  {
   "cell_type": "markdown",
   "metadata": {},
   "source": [
    "## 索引\n",
    "\n",
    "> BSBI (i) segments the collection into parts of equal size, (ii) sorts the termID-docID pairs of each part in memory, (iii) stores intermediate sorted results on disk, and (iv) merges all intermediate results into the final index. \n",
    "\n",
    "你需要将每一个子目录当做一个块（block），并且在构建索引的过程中每次只能加载一个块（模拟内存不足）。注意到我们是将操作系统意义上的块进行了抽象。你可以认为每个块足够小，能被装载进内存。\n",
    "\n",
    "在这一部分，我们将阶段性地构造类`BSBIIndex`。函数`index`给出了BSBI算法的框架，而你的工作则是在接下来的部分中实现函数`parse_block`, `invert_write` 和 `merge`。"
   ]
  },
  {
   "cell_type": "code",
   "execution_count": 14,
   "metadata": {},
   "outputs": [],
   "source": [
    "# Do not make any changes here, they will be overwritten while grading\n",
    "class BSBIIndex:\n",
    "    \"\"\" \n",
    "    Attributes\n",
    "    ----------\n",
    "    term_id_map(IdMap): For mapping terms to termIDs\n",
    "    doc_id_map(IdMap): For mapping relative paths of documents (eg \n",
    "        0/3dradiology.stanford.edu_) to docIDs\n",
    "    data_dir(str): Path to data\n",
    "    output_dir(str): Path to output index files\n",
    "    index_name(str): Name assigned to index\n",
    "    postings_encoding: Encoding used for storing the postings.\n",
    "        The default (None) implies UncompressedPostings\n",
    "    \"\"\"\n",
    "    def __init__(self, data_dir, output_dir, index_name = \"BSBI\", \n",
    "                 postings_encoding = None):\n",
    "        self.term_id_map = IdMap()\n",
    "        self.doc_id_map = IdMap()\n",
    "        self.data_dir = data_dir\n",
    "        self.output_dir = output_dir\n",
    "        self.index_name = index_name\n",
    "        self.postings_encoding = postings_encoding\n",
    "\n",
    "        # Stores names of intermediate indices\n",
    "        self.intermediate_indices = []\n",
    "        \n",
    "    def save(self):\n",
    "        \"\"\"Dumps doc_id_map and term_id_map into output directory\"\"\"\n",
    "        \n",
    "        with open(os.path.join(self.output_dir, 'terms.dict'), 'wb') as f:\n",
    "            pkl.dump(self.term_id_map, f)\n",
    "        with open(os.path.join(self.output_dir, 'docs.dict'), 'wb') as f:\n",
    "            pkl.dump(self.doc_id_map, f)\n",
    "            \n",
    "    \n",
    "    def load(self):\n",
    "        \"\"\"Loads doc_id_map and term_id_map from output directory\"\"\"\n",
    "        \n",
    "        with open(os.path.join(self.output_dir, 'terms.dict'), 'rb') as f:\n",
    "            self.term_id_map = pkl.load(f)\n",
    "        with open(os.path.join(self.output_dir, 'docs.dict'), 'rb') as f:\n",
    "            self.doc_id_map = pkl.load(f)\n",
    "            \n",
    "    def index(self):\n",
    "        \"\"\"Base indexing code\n",
    "        \n",
    "        This function loops through the data directories, \n",
    "        calls parse_block to parse the documents\n",
    "        calls invert_write, which inverts each block and writes to a new index\n",
    "        then saves the id maps and calls merge on the intermediate indices\n",
    "        \"\"\"\n",
    "        for block_dir_relative in sorted(next(os.walk(self.data_dir))[1]):#将文件中的子目录排序\n",
    "            \n",
    "            td_pairs = self.parse_block(block_dir_relative) #切分块\n",
    "            index_id = 'index_'+block_dir_relative\n",
    "            self.intermediate_indices.append(index_id) \n",
    "            with InvertedIndexWriter(index_id, directory=self.output_dir, \n",
    "                                     postings_encoding=\n",
    "                                     self.postings_encoding) as index:\n",
    "                self.invert_write(td_pairs, index)\n",
    "                td_pairs = None\n",
    "        self.save()\n",
    "        with InvertedIndexWriter(self.index_name, directory=self.output_dir, \n",
    "                                 postings_encoding=\n",
    "                                 self.postings_encoding) as merged_index:\n",
    "            with contextlib.ExitStack() as stack:\n",
    "                indices = [stack.enter_context(\n",
    "                    InvertedIndexIterator(index_id, \n",
    "                                          directory=self.output_dir, \n",
    "                                          postings_encoding=\n",
    "                                          self.postings_encoding)) \n",
    "                 for index_id in self.intermediate_indices]\n",
    "                self.merge(indices, merged_index)\n",
    "               "
   ]
  },
  {
   "cell_type": "markdown",
   "metadata": {},
   "source": [
    "### 解析\n",
    "\n",
    "> The function `parse_block`  parses documents into termID-docID pairs and accumulates the pairs in memory until a block of a fixed size is full. We choose the block size to fit comfortably into memory to permit a fast in-memory sort. \n",
    "\n",
    "你需要将每一个子目录当做一个块，`parse_block`接收子目录路径作为参数。同一子目录下所有文件名都是不同的。\n",
    "\n",
    "_注意 - 我们使用 `BSBIIndex` 继承 `BSBIIndex`, 这只是对一个已存在类添加新内容的简单方法。在这里只是用来切分类的定义（jupyter notebook内教学使用，无特殊含义）。_"
   ]
  },
  {
   "cell_type": "code",
   "execution_count": 15,
   "metadata": {},
   "outputs": [],
   "source": [
    "class BSBIIndex(BSBIIndex):            \n",
    "    def parse_block(self, block_dir_relative):\n",
    "        \"\"\"Parses a tokenized text file into termID-docID pairs\n",
    "        \n",
    "        Parameters\n",
    "        ----------\n",
    "        block_dir_relative : str\n",
    "            Relative Path to the directory that contains the files for the block\n",
    "        \n",
    "        Returns\n",
    "        -------\n",
    "        List[Tuple[Int, Int]]\n",
    "            Returns all the td_pairs extracted from the block\n",
    "        \n",
    "        Should use self.term_id_map and self.doc_id_map to get termIDs and docIDs.\n",
    "        These persist across calls to parse_block\n",
    "        \"\"\"\n",
    "        ### Begin your code\n",
    "        l=['\\n','?','.',':','\"','[',']','(',')',' ',',','\\'']\n",
    "        a=os.path.join(self.data_dir,block_dir_relative)\n",
    "        n=list()\n",
    "        for i in os.listdir(a):\n",
    "            #h为文档id\n",
    "            k=os.path.join(block_dir_relative,i)\n",
    "            h=self.doc_id_map[k]\n",
    "            q=os.path.join(a,i)\n",
    "            with open(q,'r+') as f:\n",
    "                e=f.read()\n",
    "                tokens = e.split()\n",
    "                for j in tokens:\n",
    "                    if j not in l:\n",
    "                        n.append((self.term_id_map[j],h))\n",
    "        return n\n",
    "                    \n",
    "                    \n",
    "                \n",
    "        ### End your code"
   ]
  },
  {
   "cell_type": "code",
   "execution_count": 16,
   "metadata": {},
   "outputs": [
    {
     "name": "stdout",
     "output_type": "stream",
     "text": [
      "[(0, 0), (1, 0), (2, 0), (3, 0), (4, 0), (1, 0), (5, 0), (6, 0), (7, 0), (8, 0), (9, 0), (10, 0), (11, 0), (12, 0), (13, 0), (14, 0), (15, 0), (1, 0), (5, 0), (6, 0), (7, 0), (8, 0), (9, 0), (1, 0), (5, 0), (6, 0), (7, 0), (8, 0), (9, 0), (16, 0), (17, 0), (18, 0), (19, 0), (20, 0), (21, 0), (22, 0), (9, 0), (23, 0), (24, 0), (25, 0), (26, 0), (27, 0), (28, 0), (29, 0), (30, 0), (31, 0), (32, 0), (33, 0), (34, 0), (35, 0), (36, 0), (11, 0), (37, 0), (36, 0), (38, 0), (39, 0), (40, 0), (41, 0), (42, 0), (43, 0), (44, 0), (45, 0), (46, 0), (47, 0), (48, 0), (49, 0), (50, 0), (48, 0), (51, 0), (52, 0), (53, 0), (54, 0), (55, 0), (16, 0), (21, 0), (0, 0), (1, 0), (2, 0), (3, 0), (4, 0), (0, 0), (1, 0), (2, 0), (3, 0), (4, 0), (56, 0), (57, 0), (58, 0), (7, 0), (59, 0), (60, 0), (61, 0), (62, 0), (63, 0), (22, 0), (64, 0), (65, 0), (66, 0), (67, 0), (65, 0), (68, 0), (69, 0), (70, 0), (71, 0), (31, 0), (7, 0), (72, 0), (73, 0), (74, 0), (75, 0), (76, 0), (77, 0), (62, 0), (78, 0), (59, 0), (79, 0), (80, 0), (67, 0), (78, 0), (81, 0), (82, 0), (65, 0), (83, 0), (84, 0), (85, 0), (86, 0), (53, 0), (87, 0), (88, 0), (89, 0), (90, 0), (91, 0), (55, 0), (92, 0), (93, 0), (94, 0), (95, 0), (91, 0), (96, 0), (97, 0), (92, 0), (93, 0), (98, 0), (95, 0), (99, 0), (100, 0), (101, 0), (64, 0), (65, 0), (66, 0), (102, 0), (103, 0), (104, 0), (105, 0), (106, 0), (107, 0), (108, 0), (109, 0), (67, 0), (110, 0), (54, 0), (111, 0), (112, 0), (11, 0), (113, 0), (114, 0), (11, 0), (115, 0), (116, 0), (117, 0), (65, 0), (1, 0), (118, 0), (24, 0), (119, 0), (120, 0), (59, 0), (121, 0), (122, 0), (123, 0), (4, 0), (124, 0), (98, 0), (125, 0), (126, 0), (42, 0), (127, 0), (128, 0), (129, 0), (130, 0), (44, 0), (45, 0), (46, 0), (47, 0), (48, 0), (131, 0), (132, 0), (133, 0), (8, 0), (134, 0), (44, 0), (135, 0)]\n"
     ]
    }
   ],
   "source": [
    "BSBI_example = BSBIIndex(data_dir=\"\", output_dir = 'test1')\n",
    "p=BSBI_example.parse_block(\"test1\")\n",
    "print(p)"
   ]
  },
  {
   "cell_type": "markdown",
   "metadata": {},
   "source": [
    "观察函数在测试数据上是否正常运行"
   ]
  },
  {
   "cell_type": "code",
   "execution_count": 17,
   "metadata": {},
   "outputs": [
    {
     "name": "stdout",
     "output_type": "stream",
     "text": [
      "i'm fine , thank you\n",
      "\n",
      "hi hi\n",
      "how are you ?\n",
      "\n"
     ]
    }
   ],
   "source": [
    "with open('toy-data/0/fine.txt', 'r') as f:\n",
    "    print(f.read())\n",
    "with open('toy-data/0/hello.txt', 'r') as f:\n",
    "    print(f.read())"
   ]
  },
  {
   "cell_type": "code",
   "execution_count": 18,
   "metadata": {},
   "outputs": [
    {
     "name": "stdout",
     "output_type": "stream",
     "text": [
      "<class 'str'>\n"
     ]
    }
   ],
   "source": [
    "with open('toy-data/0/fine.txt', 'r') as f:\n",
    "    print(type(f.read()))"
   ]
  },
  {
   "cell_type": "code",
   "execution_count": 240,
   "metadata": {},
   "outputs": [],
   "source": [
    "BSBI_instance = BSBIIndex(data_dir=toy_dir, output_dir = 'tmp/', index_name = 'toy')\n",
    "n=BSBI_instance.parse_block('0')\n"
   ]
  },
  {
   "cell_type": "markdown",
   "metadata": {},
   "source": [
    "写一些测试样例来确保`parse_block`方法正常运行（如：相同单词出现时是相同ID）"
   ]
  },
  {
   "cell_type": "code",
   "execution_count": 20,
   "metadata": {},
   "outputs": [
    {
     "name": "stdout",
     "output_type": "stream",
     "text": [
      "{\"i'm\": 0, 'fine': 1, 'thank': 2, 'you': 3, 'contact': 4, 'us': 5, 'about': 6, 'food': 7, 'allergies': 8, 'stanford': 9, 'medicine': 10, 'school': 11, 'of': 12, 'allergy': 13, 'program': 14, 'search': 15, 'this': 16, 'site': 17, 'only': 18, 'medical': 19, 'sites': 20, 'ways': 21, 'to': 22, 'give': 23, 'find': 24, 'a': 25, 'person': 26, 'alumni': 27, 'lane': 28, 'library': 29, 'for': 30, 'your': 31, 'information': 32, 'doube': 33, 'blind': 34, 'placebo': 35, 'control': 36, 'challenge': 37, 'q': 38, '&a': 39, 'what': 40, 'expect': 41, 'informational': 42, 'video': 43, 'speech': 44, 'from': 45, 'peanut': 46, 'allergic': 47, 'family': 48, 'interested': 49, 'in': 50, 'participating': 51, 'clinical': 52, 'trial': 53, 'please': 54, 'safar': 55, 'scheduler': 56, 'gmail': 57, 'com': 58, 'by': 59, 'email': 60, 'download': 61, 'pre': 62, 'screening': 63, 'form': 64, 'and': 65, 'attach': 66, 'questionaire': 67, 'studies': 68, 'make': 69, 'donation': 70, 'donate': 71, 'now': 72, 'more': 73, 'supporting': 74, 'the': 75, 'lori': 76, 'arthur': 77, 'lpfch': 78, 'org': 79, 'or': 80, 'at': 81, '650': 82, '723': 83, '0084': 84, 'are': 85, 'here': 86, 'navigation': 87, 'section': 88, 'overview': 89, 'staff': 90, 'news': 91, 'archive': 92, 'home': 93, 'trials': 94, 'research': 95, 'publications': 96, 'support': 97, 'resources': 98, 'getting': 99, 'care': 100, 'physician': 101, 'center': 102, 'hospital': 103, '&': 104, 'clinics': 105, 'lucile': 106, 'packard': 107, \"children's\": 108, 'emergency': 109, 'departments': 110, 'institutes': 111, 'centers': 112, 'faculty': 113, 'profiles': 114, 'education': 115, 'training': 116, 'programs': 117, 'admissions': 118, 'continuing': 119, 'community': 120, 'health': 121, 'newsletter': 122, 'volunteering': 123, 'public': 124, 'service': 125, 'partnerships': 126, 'renewal': 127, 'new': 128, 'building': 129, 'projects': 130, 'careers': 131, 'maps': 132, 'directions': 133, \"dean's\": 134, 'university': 135, 'footer': 136, 'links': 137, '2009': 138, 'terms': 139, 'use': 140, 'powered': 141, 'irt': 142, 'hi': 143, 'how': 144}\n"
     ]
    }
   ],
   "source": [
    "### Begin your code\n",
    "BSBI_instance.term_id_map['you']\n",
    "print(BSBI_instance.term_id_map.str_to_id)\n",
    "### End your code"
   ]
  },
  {
   "cell_type": "markdown",
   "metadata": {},
   "source": [
    "### 倒排表\n",
    "\n",
    "> The block is then inverted and written to disk. Inversion involves two steps. First, we sort the termID-docID pairs. Next, we collect all termID-docID pairs with the same termID into a postings list, where a posting is simply a docID. The result, an inverted index for the block we have just read, is then written to disk.\n",
    "\n",
    "在这一部分我们添加函数`invert_write`来实现由termID-docID对构建倒排表。 \n",
    "\n",
    "但是，我们首先需要实现类`InvertedIndexWriter`。和列表类似，该类提供了append函数，但是倒排表不会存储在内存中而是直接写入到磁盘里。"
   ]
  },
  {
   "cell_type": "code",
   "execution_count": 21,
   "metadata": {},
   "outputs": [],
   "source": [
    "class InvertedIndexWriter(InvertedIndex):\n",
    "    \"\"\"\"\"\"\n",
    "    def __enter__(self):\n",
    "        self.index_file = open(self.index_file_path, 'wb+')              \n",
    "        return self\n",
    "\n",
    "    def append(self, term, postings_list):\n",
    "        \"\"\"Appends the term and postings_list to end of the index file.\n",
    "        \n",
    "        This function does three things, \n",
    "        1. Encodes the postings_list using self.postings_encoding\n",
    "        2. Stores metadata in the form of self.terms and self.postings_dict\n",
    "           Note that self.postings_dict maps termID to a 3 tuple of \n",
    "           (start_position_in_index_file, \n",
    "           number_of_postings_in_list, \n",
    "           length_in_bytes_of_postings_list)\n",
    "        3. Appends the bytestream to the index file on disk\n",
    "\n",
    "        Hint: You might find it helpful to read the Python I/O docs\n",
    "        (https://docs.python.org/3/tutorial/inputoutput.html) for\n",
    "        information about appending to the end of a file.\n",
    "        \n",
    "        Parameters\n",
    "        ----------\n",
    "        term:\n",
    "            term or termID is the unique identifier for the term\n",
    "        postings_list: List[Int]\n",
    "            List of docIDs where the term appears\n",
    "        \"\"\"\n",
    "        ### Begin your code\n",
    "        postings_list.sort()\n",
    "        x= self.postings_encoding.encode(postings_list)\n",
    "        self.terms.append(term)\n",
    "        if len(self.postings_dict)==0:\n",
    "            self.postings_dict[term]=(0,len(postings_list),len(x))\n",
    "        else:\n",
    "            o=self.terms[len(self.terms)-2]\n",
    "            l=self.postings_dict[o]\n",
    "            k=l[0]+l[2]\n",
    "            n=len(self.postings_dict)+1\n",
    "            self.postings_dict[term]=(k,len(postings_list),len(x))\n",
    "        #ab追加二进制数据\n",
    "        with open(self.index_file_path, 'ab') as q:\n",
    "            q.write(x) \n",
    "\n",
    "        ### End your code"
   ]
  },
  {
   "cell_type": "markdown",
   "metadata": {},
   "source": [
    "尽管还没有实现读取索引的类，我们还是可以用以下测试代码检测我们的实现。"
   ]
  },
  {
   "cell_type": "code",
   "execution_count": 22,
   "metadata": {},
   "outputs": [],
   "source": [
    "with InvertedIndexWriter('test', directory='tmp/') as index:\n",
    "    index.append(0, [3, 2, 4])\n",
    "    index.append(2, [3, 4, 5])\n",
    "    index.index_file.seek(0)\n",
    "    assert index.terms == [0,2], \"terms sequence incorrect\"\n",
    "    assert index.postings_dict == {0: (0, 3, len(UncompressedPostings.encode([2,3,4]))), \n",
    "                                   2: (len(UncompressedPostings.encode([2,3,4])), 3, \n",
    "                                       len(UncompressedPostings.encode([3,4,5])))} ,\"postings_dict incorrect\"\n",
    "    \n",
    "    assert UncompressedPostings.decode(index.index_file.read()) == [2, 3, 4, 3, 4, 5], \"postings on disk incorrect\"\n",
    "    "
   ]
  },
  {
   "cell_type": "markdown",
   "metadata": {},
   "source": [
    "现在我们实现 `invert_write`，它将解析得到的td_pairs转换成倒排表，并使用`InvertedIndexWriter` 类将其写入磁盘。"
   ]
  },
  {
   "cell_type": "code",
   "execution_count": 23,
   "metadata": {},
   "outputs": [],
   "source": [
    "class BSBIIndex(BSBIIndex):\n",
    "    def invert_write(self, td_pairs, index):\n",
    "        \"\"\"Inverts td_pairs into postings_lists and writes them to the given index\n",
    "        \n",
    "        Parameters\n",
    "        ----------\n",
    "        td_pairs: List[Tuple[Int, Int]]\n",
    "            List of termID-docID pairs\n",
    "        index: InvertedIndexWriter\n",
    "            Inverted index on disk corresponding to the block       \n",
    "        \"\"\"\n",
    "        ### Begin your code\n",
    "        \n",
    "        #排序\n",
    "        td_pairs.sort(key = lambda x : x[0])\n",
    "        #构建postings list,并保存\n",
    "        k=list()\n",
    "        key=-1\n",
    "        for i in td_pairs:\n",
    "            if key!=-1:\n",
    "                if key==i[0]:\n",
    "                    k.append(i[1])\n",
    "                else:\n",
    "                    k=list(set(k))       #去重并从小到大排序\n",
    "                    index.append(key,k)\n",
    "                    k=[]\n",
    "                    key=i[0]\n",
    "                    k.append(i[1])\n",
    "            else:\n",
    "                key=i[0]\n",
    "                k.append(i[1])\n",
    "        if len(k)!=0:\n",
    "            k.sort()\n",
    "            index.append(key,k)\n",
    "            \n",
    "        ### End your code"
   ]
  },
  {
   "cell_type": "markdown",
   "metadata": {},
   "source": [
    "我们可以在测试数据上读取一个块并观察倒排索引中包含的内容。\n",
    "仿照`InvertedIndexWriter`部分写一些测试样例。"
   ]
  },
  {
   "cell_type": "code",
   "execution_count": 24,
   "metadata": {},
   "outputs": [
    {
     "name": "stdout",
     "output_type": "stream",
     "text": [
      "{0: (0, 2, 8), 1: (8, 2, 8), 2: (16, 1, 4), 4: (20, 2, 8)}\n"
     ]
    }
   ],
   "source": [
    "### Begin your code\n",
    "with InvertedIndexWriter('test' ,directory='tmp/') as index:\n",
    "    td_pairs=[(0,3),(2,3),(1,4),(4,5),(1,3),(0,1),(4,1)]\n",
    "    b=BSBIIndex(data_dir=toy_dir, output_dir = 'tmp/', index_name = 'toy')\n",
    "    b.invert_write( td_pairs,index) \n",
    "    assert index.terms == [0,1,2,4],'incorrect'\n",
    "    print(index.postings_dict)\n",
    "### End your code"
   ]
  },
  {
   "cell_type": "code",
   "execution_count": 25,
   "metadata": {},
   "outputs": [
    {
     "name": "stdout",
     "output_type": "stream",
     "text": [
      "[1, 2, 3, 4, 5]\n"
     ]
    }
   ],
   "source": [
    "o=[2,1,3,2,4,2,1,5,1,3,2,5,1,2,3]\n",
    "o=list(set(o))\n",
    "print(o)"
   ]
  },
  {
   "cell_type": "markdown",
   "metadata": {},
   "source": [
    "### 合并\n",
    "> The algorithm simultaneously merges the ten blocks into one large merged index. To do the merging, we open all block files simultaneously, and maintain small read buffers for the ten blocks we are reading and a write buffer for the final merged index we are writing. \n",
    "\n",
    "Python中的迭代模型非常自然地符合我们维护一个小的读缓存的要求。我们可以迭代地从磁盘上每次读取文件的一个倒排列表。我们通过构建`InvertedIndex`的子类`InvertedIndexIterator`来完成这个迭代任务。"
   ]
  },
  {
   "cell_type": "code",
   "execution_count": 26,
   "metadata": {},
   "outputs": [],
   "source": [
    "class InvertedIndexIterator(InvertedIndex):\n",
    "    \"\"\"\"\"\"\n",
    "       \n",
    "    def __enter__(self):\n",
    "        \"\"\"Adds an initialization_hook to the __enter__ function of super class\n",
    "        \"\"\"\n",
    "        super().__enter__()\n",
    "        self._initialization_hook()\n",
    "        return self\n",
    "\n",
    "    def _initialization_hook(self):\n",
    "        \"\"\"Use this function to initialize the iterator\n",
    "        \"\"\"\n",
    "        ### Begin your code\n",
    "        self.k=0\n",
    "        self.t=0\n",
    "        ### End your code\n",
    "\n",
    "    def __iter__(self): \n",
    "        return self\n",
    "    \n",
    "    def __next__(self):\n",
    "        \"\"\"Returns the next (term, postings_list) pair in the index.\n",
    "        \n",
    "        Note: This function should only read a small amount of data from the \n",
    "        index file. In particular, you should not try to maintain the full \n",
    "        index file in memory.\n",
    "        \"\"\"\n",
    "        ### Begin your code\n",
    "        if len(self.terms)>self.k:\n",
    "            a=self.terms[self.k]\n",
    "            t=self.postings_dict[a]\n",
    "            length=t[2]\n",
    "            p=t[0]\n",
    "            self.index_file.seek(p,0)\n",
    "            h=self.index_file.read(length)\n",
    "            n=self.postings_encoding.decode(h) #获得posting_list\n",
    "            self.k+=1\n",
    "            return (a,n)\n",
    "        else:\n",
    "            if self.t==0:\n",
    "                self.t=1\n",
    "                return self.k\n",
    "            else:\n",
    "                raise StopIteration\n",
    "    \n",
    "        \n",
    "        ### End your code\n",
    "\n",
    "    def delete_from_disk(self):\n",
    "        \"\"\"Marks the index for deletion upon exit. Useful for temporary indices\n",
    "        \"\"\"\n",
    "        self.delete_upon_exit = True\n",
    "\n",
    "    def __exit__(self, exception_type, exception_value, traceback):\n",
    "        \"\"\"Delete the index file upon exiting the context along with the\n",
    "        functions of the super class __exit__ function\"\"\"\n",
    "        self.index_file.close()\n",
    "        if hasattr(self, 'delete_upon_exit') and self.delete_upon_exit:\n",
    "            os.remove(self.index_file_path)\n",
    "            os.remove(self.metadata_file_path)\n",
    "        else:\n",
    "            with open(self.metadata_file_path, 'wb') as f:\n",
    "                pkl.dump([self.postings_dict, self.terms], f)"
   ]
  },
  {
   "cell_type": "markdown",
   "metadata": {},
   "source": [
    "\n",
    "为了测试以上代码，我们先用`InvertedIndexWriter` 创建索引，然后再迭代遍历。写一些小的测试样例观察它是否正常运行。至少你得写一个测试，手工构建一个小的索引，用`InvertedIndexWriter`将他们写入磁盘，然后用`InvertedIndexIterator`迭代遍历倒排索引。"
   ]
  },
  {
   "cell_type": "code",
   "execution_count": 242,
   "metadata": {},
   "outputs": [
    {
     "name": "stdout",
     "output_type": "stream",
     "text": [
      "(1, [2, 3, 4])\n",
      "(2, [3, 4, 5])\n"
     ]
    }
   ],
   "source": [
    "### Begin your code\n",
    "with InvertedIndexWriter('test', directory='tmp/') as index:\n",
    "    index.append(1, [2, 3, 4])\n",
    "    index.append(2, [3, 4, 5])\n",
    "    with InvertedIndexIterator('test', directory='tmp/') as k:\n",
    "        print(next(k))\n",
    "        print(next(k))\n",
    "    \n",
    "        \n",
    "### End your code"
   ]
  },
  {
   "cell_type": "code",
   "execution_count": 28,
   "metadata": {},
   "outputs": [
    {
     "name": "stdout",
     "output_type": "stream",
     "text": [
      "(1, [2, 3, 4])\n",
      "(2, [3, 4, 5])\n",
      "(1, [2, 3, 4])\n",
      "(2, [3, 4, 5])\n",
      "(1, [2, 3, 4])\n",
      "(2, [3, 4, 5])\n"
     ]
    }
   ],
   "source": [
    "### Begin your code\n",
    "path='test'\n",
    "index_list=[]\n",
    "for i in os.listdir(path):\n",
    "    index_id=os.path.join(path,i)\n",
    "    index_list.append(index_id)\n",
    "    with InvertedIndexWriter('tt',directory=index_id) as index:\n",
    "        index.append(1, [2, 3, 4])\n",
    "        index.append(2, [3, 4, 5])\n",
    "with contextlib.ExitStack() as stack:\n",
    "    indices = [stack.enter_context(\n",
    "        InvertedIndexIterator('tt', \n",
    "                              directory=index_id)) for index_id in index_list]\n",
    "    for i in indices:\n",
    "        for j in i:\n",
    "            if isinstance(j,tuple):\n",
    "                print(j)\n",
    "### End your code\n",
    "\n",
    "    "
   ]
  },
  {
   "cell_type": "markdown",
   "metadata": {},
   "source": [
    "> During merging, in each iteration, we select the lowest termID that has not been processed yet using a priority queue or a similar data structure. All postings lists for this termID are read and merged, and the merged list is written back to disk. Each read buffer is refilled from its file when necessary.\n",
    "\n",
    "我们将使用`InvertedIndexIterator`来完成读取的部分，用`InvertedIndexWriter`来将合并后的索引写入磁盘。\n",
    "\n",
    "注意到我们之前一直使用`with` 语句来打开倒排索引文件，但是现在需要程序化地完成这项工作。可以看到我们在基类`BSBIIndex`的`index`函数中使用了`contextlib`([参考文档](https://docs.python.org/3/library/contextlib.html#contextlib.ExitStack))\n",
    "你的任务是合并*打开的*`InvertedIndexIterator`对象（倒排列表），并且通过一个`InvertedIndexWriter`对象每次写入一个文档列表。\n",
    "\n",
    "既然我们知道文档列表已经排过序了，那么我们可以在线性时间内对它们进行合并排序。事实上`heapq`([参考文档](https://docs.python.org/3.0/library/heapq.html)) 是Python中一个实现了堆排序算法的标准模板。另外它还包含一个实用的函数`heapq.merge`，可以将多个已排好序的输入（可迭代）合并成一个有序的输出并返回它的迭代器。它不仅可以用来合并倒排列表，也可以合并倒排索引词典。\n",
    "\n",
    "为了让你快速上手`heapq.merge`函数，我们提供了一个简单的使用样例。给出两个以动物和树平均寿命排序的列表，我们希望合并它们。"
   ]
  },
  {
   "cell_type": "code",
   "execution_count": 29,
   "metadata": {},
   "outputs": [
    {
     "name": "stdout",
     "output_type": "stream",
     "text": [
      "('Giraffe', 28)\n",
      "('Rhinoceros', 40)\n",
      "('Giraffe', 50)\n",
      "('Indian Elephant', 70)\n",
      "('Black Willow', 70)\n",
      "('Golden Eagle', 80)\n",
      "('Basswood', 100)\n",
      "('Box turtle', 123)\n",
      "('Bald Cypress', 600)\n"
     ]
    }
   ],
   "source": [
    "import heapq\n",
    "animal_lifespans = [('Giraffe', 28), \n",
    "                   ('Rhinoceros', 40), \n",
    "                   ('Indian Elephant', 70), \n",
    "                   ('Golden Eagle', 80), \n",
    "                   ('Box turtle', 123)]\n",
    "\n",
    "tree_lifespans = [('Giraffe', 50), \n",
    "                  ('Black Willow', 70), \n",
    "                  ('Basswood', 100),\n",
    "                  ('Bald Cypress', 600)]\n",
    "\n",
    "lifespan_lists = [animal_lifespans, tree_lifespans]\n",
    "\n",
    "for merged_item in heapq.merge(*lifespan_lists, key=lambda x: x[1]):\n",
    "    print(merged_item)"
   ]
  },
  {
   "cell_type": "markdown",
   "metadata": {},
   "source": [
    "注意使用`*`将`lifespan_lists`解包作为参数，并且使用`lambda`函数来给出进行排序的key。如果你对它们不熟悉可以参考文档([unpacking lists](https://docs.python.org/3/tutorial/controlflow.html#unpacking-argument-lists), [lambda expressions](https://docs.python.org/3/tutorial/controlflow.html#lambda-expressions))。"
   ]
  },
  {
   "cell_type": "code",
   "execution_count": 30,
   "metadata": {},
   "outputs": [],
   "source": [
    "import heapq\n",
    "import copy\n",
    "class BSBIIndex(BSBIIndex):\n",
    "    def merge(self, indices, merged_index):\n",
    "        \"\"\"Merges multiple inverted indices into a single index\n",
    "        \n",
    "        Parameters\n",
    "        ----------\n",
    "        indices: List[InvertedIndexIterator]\n",
    "            A list of InvertedIndexIterator objects, each representing an\n",
    "            iterable inverted index for a block\n",
    "        merged_index: InvertedIndexWriter\n",
    "            An instance of InvertedIndexWriter object into which each merged \n",
    "            postings list is written out one at a time\n",
    "        \"\"\"\n",
    "        ### Begin your code\n",
    "        x=list()\n",
    "        o=list()\n",
    "        #o为标签列表\n",
    "        for i in range(len(indices)):\n",
    "            o.append(0)\n",
    "        while sum(o)!=len(indices):\n",
    "            for i in range(len(indices)):\n",
    "                if o[i]==0:\n",
    "                    h=next(indices[i])\n",
    "                    if isinstance(h,tuple):\n",
    "                        x.append(h)\n",
    "                    else:\n",
    "                        o[i]=1\n",
    "            x.sort(key=lambda y : y[0])\n",
    "            n=list()\n",
    "            x_x=list()\n",
    "            for k in x:\n",
    "                if k[0]==x[0][0]:\n",
    "                    n.extend(k[1])\n",
    "                else:\n",
    "                    x_x.append(k)\n",
    "            n=list(set(n))\n",
    "            n.sort()\n",
    "            merged_index.append(x[0][0],n)\n",
    "            x=x_x\n",
    "        t=0\n",
    "        p=list()\n",
    "        for i in x:\n",
    "            if t==0:\n",
    "                t=i\n",
    "                p.extend(i[1])\n",
    "            if t[0]==i[0]:\n",
    "                p.extend(i[1])\n",
    "            else:\n",
    "                p=list(set(p))\n",
    "                p.sort()\n",
    "                merged_index.append(t[0],p)\n",
    "                t=i\n",
    "                p=list()\n",
    "                p.extend(i[1])\n",
    "        p=list(set(p))\n",
    "        p.sort()\n",
    "        merged_index.append(t[0],p)\n",
    "        \n",
    "                \n",
    "                \n",
    "                \n",
    "            \n",
    "            \n",
    "            \n",
    "\n",
    "        ### End your code"
   ]
  },
  {
   "cell_type": "markdown",
   "metadata": {},
   "source": [
    "首先确保它在测试数据上正常运行"
   ]
  },
  {
   "cell_type": "markdown",
   "metadata": {},
   "source": [
    "接下来对整个数据集构建索引"
   ]
  },
  {
   "cell_type": "code",
   "execution_count": 31,
   "metadata": {},
   "outputs": [],
   "source": [
    "BSBI_instance = BSBIIndex(data_dir='pa1-data', output_dir ='output_dir', )\n",
    "#BSBI_instance.index()\n"
   ]
  },
  {
   "cell_type": "code",
   "execution_count": 32,
   "metadata": {},
   "outputs": [],
   "source": [
    "c_BSBI_instance1 = BSBIIndex(data_dir='toy-data',output_dir ='toy_output_dir/', )\n",
    "c_BSBI_instance1.index()\n"
   ]
  },
  {
   "cell_type": "code",
   "execution_count": 33,
   "metadata": {},
   "outputs": [
    {
     "name": "stdout",
     "output_type": "stream",
     "text": [
      "(0, [0, 5])\n",
      "(1, [0, 5])\n",
      "(2, [0, 5])\n",
      "(3, [0, 1, 2, 3, 4, 5, 6])\n"
     ]
    }
   ],
   "source": [
    "with InvertedIndexIterator('BSBI',directory='toy_output_dir/') as k:\n",
    "    print(next(k))\n",
    "    print(next(k))\n",
    "    print(next(k))\n",
    "    print(next(k))"
   ]
  },
  {
   "cell_type": "markdown",
   "metadata": {},
   "source": [
    "如果你在合并阶段出现了错误，可以利用以下代码来debug。"
   ]
  },
  {
   "cell_type": "code",
   "execution_count": 34,
   "metadata": {},
   "outputs": [
    {
     "data": {
      "text/plain": [
       "\"BSBI_instance = BSBIIndex(data_dir='pa1-data', output_dir = 'output_dir', )\\nBSBI_instance.intermediate_indices = ['index_'+str(i) for i in range(10)]\\nwith InvertedIndexWriter(BSBI_instance.index_name, directory=BSBI_instance.output_dir, postings_encoding=BSBI_instance.postings_encoding) as merged_index:\\n    with contextlib.ExitStack() as stack:\\n        indices = [stack.enter_context(InvertedIndexIterator(index_id, directory=BSBI_instance.output_dir, postings_encoding=BSBI_instance.postings_encoding)) for index_id in BSBI_instance.intermediate_indices]\\n        BSBI_instance.merge(indices, merged_index)\""
      ]
     },
     "execution_count": 34,
     "metadata": {},
     "output_type": "execute_result"
    }
   ],
   "source": [
    "\"\"\"BSBI_instance = BSBIIndex(data_dir='pa1-data', output_dir = 'output_dir', )\n",
    "BSBI_instance.intermediate_indices = ['index_'+str(i) for i in range(10)]\n",
    "with InvertedIndexWriter(BSBI_instance.index_name, directory=BSBI_instance.output_dir, postings_encoding=BSBI_instance.postings_encoding) as merged_index:\n",
    "    with contextlib.ExitStack() as stack:\n",
    "        indices = [stack.enter_context(InvertedIndexIterator(index_id, directory=BSBI_instance.output_dir, postings_encoding=BSBI_instance.postings_encoding)) for index_id in BSBI_instance.intermediate_indices]\n",
    "        BSBI_instance.merge(indices, merged_index)\"\"\""
   ]
  },
  {
   "cell_type": "markdown",
   "metadata": {},
   "source": [
    "## 布尔联合检索 (10%)\n",
    "\n",
    "我们将实现BSBIIndex中的`retrieve`函数，对于给定的包含由空格分隔tokens的字符串查询，返回包含查询中所有tokens的文档列表。但是我们并不能迭代遍历整个索引或者将整个索引加载到内存来寻找相应的terms（索引太大）。\n",
    "\n",
    "首先我们要实现`InvertedIndex`的子类`InvertedIndexMapper`，它能够找到对应terms在索引文件中位置并取出它的倒排记录表。"
   ]
  },
  {
   "cell_type": "code",
   "execution_count": 35,
   "metadata": {},
   "outputs": [],
   "source": [
    "class InvertedIndexMapper(InvertedIndex):\n",
    "    def __getitem__(self, key):\n",
    "        return self._get_postings_list(key)\n",
    "    \n",
    "    def _get_postings_list(self, term):\n",
    "        \"\"\"Gets a postings list (of docIds) for `term`.\n",
    "        \n",
    "        This function should not iterate through the index file.\n",
    "        I.e., it should only have to read the bytes from the index file\n",
    "        corresponding to the postings list for the requested term.\n",
    "        \"\"\"\n",
    "        ### Begin your code\n",
    "        BSBI_instance = BSBIIndex('', self.directory, )\n",
    "        BSBI_instance.load()\n",
    "        h=1\n",
    "        for i in BSBI_instance.term_id_map.str_to_id.keys():\n",
    "            if term==i:\n",
    "                h=0\n",
    "        if h:\n",
    "            return []\n",
    "        k=BSBI_instance.term_id_map[term]\n",
    "        h=self.postings_dict[k]\n",
    "        self.index_file.seek(h[0])\n",
    "        l=self.index_file.read(h[2])\n",
    "        x=self.postings_encoding.decode(l)\n",
    "        return x\n",
    "        ### End your code"
   ]
  },
  {
   "cell_type": "code",
   "execution_count": 36,
   "metadata": {},
   "outputs": [],
   "source": [
    "BSBI_instance = BSBIIndex(data_dir='pa1-data', output_dir ='output_dir', )\n",
    "#BSBI_instance.index()\n"
   ]
  },
  {
   "cell_type": "markdown",
   "metadata": {},
   "source": [
    "写一些测试样例检测`_get_postings_list`的实现"
   ]
  },
  {
   "cell_type": "code",
   "execution_count": 37,
   "metadata": {},
   "outputs": [
    {
     "name": "stdout",
     "output_type": "stream",
     "text": [
      "[0, 1, 2, 3, 4, 5, 6]\n"
     ]
    }
   ],
   "source": [
    "with InvertedIndexMapper('BSBI',directory='toy_output_dir') as k:\n",
    "        print(k['you'])"
   ]
  },
  {
   "cell_type": "markdown",
   "metadata": {},
   "source": [
    "现在我们获得了查询中terms对应的倒排记录表，接着需要求他们的交集。这部分与我们之前作业的merge方法类似，请实现`sorted_intersect`函数，遍历两个有序列表并在线性时间内合并。"
   ]
  },
  {
   "cell_type": "code",
   "execution_count": 38,
   "metadata": {},
   "outputs": [],
   "source": [
    "import copy\n",
    "def sorted_intersect(list1, list2):\n",
    "    \"\"\"Intersects two (ascending) sorted lists and returns the sorted result\n",
    "    \n",
    "    Parameters\n",
    "    ----------\n",
    "    list1: List[Comparable]\n",
    "    list2: List[Comparable]\n",
    "        Sorted lists to be intersected\n",
    "        \n",
    "    Returns\n",
    "    -------\n",
    "    List[Comparable]\n",
    "        Sorted intersection        \n",
    "    \"\"\"\n",
    "    ### Begin your code\n",
    "    list3=[x for x in list1 if x in list2]\n",
    "    list3=list(set(list3))\n",
    "    list3.sort()\n",
    "    return list3\n",
    "    \n",
    "    ### End your code"
   ]
  },
  {
   "cell_type": "markdown",
   "metadata": {},
   "source": [
    "简单的测试样例"
   ]
  },
  {
   "cell_type": "code",
   "execution_count": 39,
   "metadata": {},
   "outputs": [
    {
     "name": "stdout",
     "output_type": "stream",
     "text": [
      "[2, 3]\n"
     ]
    }
   ],
   "source": [
    "### Begin your code\n",
    "a=[1,2,3]\n",
    "b=[3,2,4]\n",
    "h=sorted_intersect(a,b)\n",
    "print(h)\n",
    "### End your code"
   ]
  },
  {
   "cell_type": "markdown",
   "metadata": {},
   "source": [
    "现在可以利用`sorted_intersect` 和 `InvertedIndexMapper`来实现`retrieve`函数。"
   ]
  },
  {
   "cell_type": "code",
   "execution_count": 47,
   "metadata": {},
   "outputs": [],
   "source": [
    "#%%tee submission/retrieve.py\n",
    "class BSBIIndex(BSBIIndex):\n",
    "    def retrieve(self, query):\n",
    "        \"\"\"Retrieves the documents corresponding to the conjunctive query\n",
    "        Parameters\n",
    "        ----------\n",
    "        query: str\n",
    "            Space separated list of query tokens\n",
    "        Result\n",
    "        ------\n",
    "        List[str]\n",
    "            Sorted list of documents which contains each of the query tokens. \n",
    "            Should be empty if no documents are found.\n",
    "        Should NOT throw errors for terms not in corpus\n",
    "        \"\"\"\n",
    "        if len(self.term_id_map) == 0 or len(self.doc_id_map) == 0:\n",
    "            self.load()\n",
    "        ### Begin your code\n",
    "        k=query.split()\n",
    "        o=list()\n",
    "        h=list()\n",
    "        with InvertedIndexMapper('BSBI',postings_encoding=self.postings_encoding, directory=self.output_dir,) as h:\n",
    "            for i in k:\n",
    "                if len(h[i])!=0:\n",
    "                    o.append(h[i])\n",
    "                else:\n",
    "                    return []\n",
    "        p=list()\n",
    "        if len(o)==1:\n",
    "            for i in o[0]:\n",
    "                p.append(self.doc_id_map[i])\n",
    "            return p\n",
    "        else:\n",
    "            for k in range(len(o)):\n",
    "                if k==0:\n",
    "                    h=o[k]\n",
    "                else:\n",
    "                    h=sorted_intersect(h,o[k])\n",
    "        for i in h:\n",
    "            p.append(self.doc_id_map[i])\n",
    "        return p\n",
    "                    \n",
    "                \n",
    "    \n",
    "        ### End your code"
   ]
  },
  {
   "cell_type": "code",
   "execution_count": 48,
   "metadata": {},
   "outputs": [],
   "source": [
    "BSBI_instance1 = BSBIIndex(data_dir='toy-data', output_dir = 'toy_output_dir', )\n",
    "BSBI_instance1.index()\n"
   ]
  },
  {
   "cell_type": "markdown",
   "metadata": {},
   "source": [
    "通过一个简单的查询来测试索引在真实数据集上是否正常工作。"
   ]
  },
  {
   "cell_type": "code",
   "execution_count": 49,
   "metadata": {},
   "outputs": [
    {
     "data": {
      "text/plain": [
       "['0\\\\fine.txt',\n",
       " '0\\\\foodallergies.stanford.edu_about_us_contact_us.html',\n",
       " '0\\\\hello.txt',\n",
       " '1\\\\bye.txt',\n",
       " '1\\\\byebye.txt',\n",
       " '2\\\\fine.txt',\n",
       " '2\\\\hello.txt']"
      ]
     },
     "execution_count": 49,
     "metadata": {},
     "output_type": "execute_result"
    }
   ],
   "source": [
    "BSBI_instance1.retrieve('you')"
   ]
  },
  {
   "cell_type": "code",
   "execution_count": 50,
   "metadata": {},
   "outputs": [],
   "source": [
    "BSBI_instance = BSBIIndex(data_dir='pa1-data', output_dir = 'output_dir', )"
   ]
  },
  {
   "cell_type": "code",
   "execution_count": 51,
   "metadata": {},
   "outputs": [],
   "source": [
    "#BSBI_instance.retrieve('we are')"
   ]
  },
  {
   "cell_type": "markdown",
   "metadata": {},
   "source": [
    "你也可以通过读取文件来测试其中的页面是否真的包含了查询的terms"
   ]
  },
  {
   "cell_type": "code",
   "execution_count": 52,
   "metadata": {},
   "outputs": [
    {
     "name": "stdout",
     "output_type": "stream",
     "text": [
      "cs276 information retrieval and web search cs 276 ling 286 information retrieval and web search spring 2011 pandu nayak and prabhakar raghavan lecture 3 units tu th 4 15 5 30 gates b03 tas sonali aggarwal ivan cui valentin spitkovsky and sandeep sripada staff e mail cs276 spr1011 staff lists stanford edu lectures are also available online and on television through scpd sitn course description basic and advanced techniques for text based information systems efficient text indexing boolean and vector space retrieval models evaluation and interface issues web search including crawling link based algorithms and web metadata text web clustering classification text mining syllabus additional information staff contact information piazzza we strongly recommend students to post questions to the course page on www piazzza com instead of sending emails this forum enables students to discuss the questions they encounter in lectures or assignments here is a quick introduction video email if you have a question not appropriate for the piazzza forum eg one that is only relevant to your situation or one that reveals part of your solution to a homework question please email the staff mailing list at cs276 spr1011 staff lists stanford edu professor pandu nayak office none on campus office hours by appointment email nayak cs stanford edu professor prabhakar raghavan office none on campus office hours by appointment email pragh cs stanford edu ta sonali aggarwal office location b26 a ph 650 723 6319 office hours wednesday 4 30pm 6 30pm email sonali9 stanford edu ta ivan cui office location b26 b ph 650 736 1817 office hours monday 2 15pm 4 15pm email ivancui stanford edu ta valentin spitkovsky office location gates 228 second floor office hours thursday 2 15pm 4 15pm email vals stanford edu ta sandeep sripada office location b26 a ph 650 723 6319 office hours tuesday 5 30pm 7 30pm remember to carry your stanford id to open the basement doors email sss cs stanford edu announcements if you are not registered in the course but wish to receive course announcements you may subscribe to the guest mailing list cs276 spr1011 guests lists stanford edu textbook introduction to information retrieval by c manning p raghavan and h schutze cambridge university press available from the stanford bookstore or other fine retailers you can also download and print chapters at the book website prerequisites cs 103b and cs 107 and any one of cs 121 cs 145 or cs 161 or equivalent background programming experience will be necessary for the two practical exercises related courses introduction to computational advertising http www stanford edu class msande239\n",
      "\n"
     ]
    }
   ],
   "source": [
    "with open(\"pa1-data/1/cs276.stanford.edu_\", 'r') as f:\n",
    "    print(f.read())"
   ]
  },
  {
   "cell_type": "markdown",
   "metadata": {},
   "source": [
    "测试dev queries（提前构建好的查询与结果）是否正确"
   ]
  },
  {
   "cell_type": "code",
   "execution_count": 54,
   "metadata": {},
   "outputs": [
    {
     "name": "stdout",
     "output_type": "stream",
     "text": [
      "Results match for query: we are\n",
      "Results match for query: stanford class\n",
      "Results match for query: stanford students\n",
      "Results match for query: very cool\n",
      "Results match for query: the\n",
      "Results match for query: a\n",
      "Results match for query: the the\n",
      "Results match for query: stanford computer science\n"
     ]
    }
   ],
   "source": [
    "for i in range(1, 9):\n",
    "    with open('dev_queries/query.' + str(i)) as q:\n",
    "        query = q.read()\n",
    "        my_results = [os.path.normpath(path) for path in BSBI_instance.retrieve(query)]\n",
    "        with open('dev_output/' + str(i) + '.out') as o:\n",
    "            reference_results = [os.path.normpath(x.strip()) for x in o.readlines()]\n",
    "            assert set(my_results) == set(reference_results), \"Results DO NOT match for query: \"+query.strip()\n",
    "        print(\"Results match for query:\", query.strip())"
   ]
  },
  {
   "cell_type": "code",
   "execution_count": 55,
   "metadata": {},
   "outputs": [
    {
     "name": "stdout",
     "output_type": "stream",
     "text": [
      "<class 'list'>\n"
     ]
    }
   ],
   "source": [
    "print(type(my_results))"
   ]
  },
  {
   "cell_type": "markdown",
   "metadata": {},
   "source": [
    "如果出现了错误，可以通过以下代码比较输出与正确结果的差异"
   ]
  },
  {
   "cell_type": "code",
   "execution_count": 56,
   "metadata": {},
   "outputs": [
    {
     "name": "stdout",
     "output_type": "stream",
     "text": [
      "4232\n"
     ]
    }
   ],
   "source": [
    "print(len(my_results))"
   ]
  },
  {
   "cell_type": "code",
   "execution_count": 57,
   "metadata": {},
   "outputs": [
    {
     "name": "stdout",
     "output_type": "stream",
     "text": [
      "4232\n"
     ]
    }
   ],
   "source": [
    "print(len(reference_results))"
   ]
  },
  {
   "cell_type": "code",
   "execution_count": 58,
   "metadata": {},
   "outputs": [
    {
     "data": {
      "text/plain": [
       "False"
      ]
     },
     "execution_count": 58,
     "metadata": {},
     "output_type": "execute_result"
    }
   ],
   "source": [
    "[1,2,3]==[3,2,1]"
   ]
  },
  {
   "cell_type": "markdown",
   "metadata": {},
   "source": [
    "确保你构建自己的查询来测试所有可能的边界情况，例如数据集中没有出现的terms，或者拖慢合并的频繁出现的terms。"
   ]
  },
  {
   "cell_type": "markdown",
   "metadata": {},
   "source": [
    "# 索引压缩  (30%)"
   ]
  },
  {
   "cell_type": "markdown",
   "metadata": {},
   "source": [
    "在这部分，你将使用可变长字节编码对索引进行压缩。（gap-encoding可选，对gap进行编码）\n",
    "\n",
    "下面几个Python运算符可能对你有帮助"
   ]
  },
  {
   "cell_type": "code",
   "execution_count": 59,
   "metadata": {},
   "outputs": [
    {
     "name": "stdout",
     "output_type": "stream",
     "text": [
      "10 % 2 =  0\n",
      "10 % 3 =  1\n",
      "10 / 3 =  3.3333333333333335\n",
      "10 // 3 =  3\n"
     ]
    }
   ],
   "source": [
    "# Remainder (modulo) operator %\n",
    "\n",
    "print(\"10 % 2 = \", 10 % 2)\n",
    "print(\"10 % 3 = \", 10 % 3)\n",
    "\n",
    "# Integer division in Python 3 is done by using two slash signs\n",
    "\n",
    "print(\"10 / 3 = \", 10 / 3)\n",
    "print(\"10 // 3 = \", 10 // 3)"
   ]
  },
  {
   "cell_type": "code",
   "execution_count": null,
   "metadata": {},
   "outputs": [],
   "source": []
  },
  {
   "cell_type": "markdown",
   "metadata": {},
   "source": [
    "完成下面的`CompressedPostings`类，我们将用它来替换`UncompressedPostings`。关于如何使用gap-encoding和可变长字节编码，你可以参考老师课件或者[Chapter 5](https://nlp.stanford.edu/IR-book/pdf/05comp.pdf)。"
   ]
  },
  {
   "cell_type": "code",
   "execution_count": 60,
   "metadata": {},
   "outputs": [],
   "source": [
    "import copy\n",
    "class CompressedPostings:\n",
    "    #If you need any extra helper methods you can add them here \n",
    "    ### Begin your code\n",
    "    @staticmethod\n",
    "    def switch(a):\n",
    "        m=bytearray()\n",
    "        if a==0:\n",
    "            m.append(128)\n",
    "            return m\n",
    "        while(a>0):\n",
    "            b=a%128\n",
    "            if a<128:\n",
    "                m.append(b+128)\n",
    "            else:\n",
    "                m.append(b)\n",
    "            a=a//128\n",
    "        return m\n",
    "    \n",
    "\n",
    "    ### End your code\n",
    "    \n",
    "    @staticmethod\n",
    "    def encode(postings_list):\n",
    "        \"\"\"Encodes `postings_list` using gap encoding with variable byte \n",
    "        encoding for each gap\n",
    "        \n",
    "        Parameters\n",
    "        ----------\n",
    "        postings_list: List[int]\n",
    "            The postings list to be encoded\n",
    "        \n",
    "        Returns\n",
    "        -------\n",
    "        bytes: \n",
    "            Bytes reprsentation of the compressed postings list \n",
    "            (as produced by `array.tobytes` function)\n",
    "        \"\"\"\n",
    "        ### Begin your code\n",
    "        \n",
    "        x=copy.deepcopy(postings_list)\n",
    "        if len(postings_list)>=2:\n",
    "            for i in range(len(x)):\n",
    "                if i>0:\n",
    "                    x[i]=postings_list[i]-postings_list[i-1]\n",
    "                else:\n",
    "                    x[i]=postings_list[0]\n",
    "        m = bytearray()\n",
    "        for i in x:\n",
    "            n=CompressedPostings.switch(i)\n",
    "            for j in n:\n",
    "                m.append(j)\n",
    "        return m\n",
    "        \n",
    "        \n",
    "        \n",
    "        \n",
    "        \n",
    "                \n",
    "                \n",
    "            \n",
    "            \n",
    "             \n",
    "        \n",
    "        \n",
    "\n",
    "        ### End your code\n",
    "\n",
    "        \n",
    "    @staticmethod\n",
    "    def decode(encoded_postings_list):\n",
    "        \"\"\"Decodes a byte representation of compressed postings list\n",
    "        \n",
    "        Parameters\n",
    "        ----------\n",
    "        encoded_postings_list: bytes\n",
    "            Bytes representation as produced by `CompressedPostings.encode` \n",
    "            \n",
    "        Returns\n",
    "        -------\n",
    "        List[int]\n",
    "            Decoded postings list (each posting is a docIds)\n",
    "        \"\"\"\n",
    "        ### Begin your code\n",
    "        x=list()\n",
    "        y=0\n",
    "        q=0\n",
    "        s=0\n",
    "        for i in encoded_postings_list:\n",
    "            if i<128:\n",
    "                y+=i*128**q\n",
    "                q+=1\n",
    "            else:\n",
    "                i-=128\n",
    "                y+=i*128**q\n",
    "                s=1\n",
    "            if s==1:\n",
    "                x.append(y)\n",
    "                s=0\n",
    "                q=0\n",
    "        return x\n",
    "        \n",
    "\n",
    "        ### End your code\n"
   ]
  },
  {
   "cell_type": "markdown",
   "metadata": {},
   "source": [
    "首先，如果你实现了额外的辅助函数，写一些测试样例"
   ]
  },
  {
   "cell_type": "code",
   "execution_count": 61,
   "metadata": {},
   "outputs": [
    {
     "name": "stdout",
     "output_type": "stream",
     "text": [
      "[31758, 31886]\n",
      "bytearray(b'\\x0ex\\x81\\x00\\x81')\n",
      "[31758, 31886]\n"
     ]
    }
   ],
   "source": [
    "### Begin your code\n",
    "p=[31758,31886]\n",
    "\n",
    "p.sort()\n",
    "print(p)\n",
    "\n",
    "o=CompressedPostings.encode(p)\n",
    "print(o)\n",
    "k=CompressedPostings.decode(o)\n",
    "print(k)\n",
    "### End your code"
   ]
  },
  {
   "cell_type": "code",
   "execution_count": 62,
   "metadata": {},
   "outputs": [
    {
     "name": "stdout",
     "output_type": "stream",
     "text": [
      "[2080768]\n",
      "bytearray(b'\\x00\\x00\\xff')\n",
      "[2080768]\n"
     ]
    }
   ],
   "source": [
    "p=[128*128*127]\n",
    "\n",
    "p.sort()\n",
    "print(p)\n",
    "\n",
    "o=CompressedPostings.encode(p)\n",
    "print(o)\n",
    "k=CompressedPostings.decode(o)\n",
    "print(k)"
   ]
  },
  {
   "cell_type": "code",
   "execution_count": null,
   "metadata": {},
   "outputs": [],
   "source": [
    "\n",
    "\n",
    "    "
   ]
  },
  {
   "cell_type": "code",
   "execution_count": null,
   "metadata": {},
   "outputs": [],
   "source": []
  },
  {
   "cell_type": "code",
   "execution_count": 63,
   "metadata": {},
   "outputs": [
    {
     "data": {
      "text/plain": [
       "127"
      ]
     },
     "execution_count": 63,
     "metadata": {},
     "output_type": "execute_result"
    }
   ],
   "source": [
    "(127)%128"
   ]
  },
  {
   "cell_type": "markdown",
   "metadata": {},
   "source": [
    "我们实现了一个简单的函数来测试你编码的列表是否被正确解码"
   ]
  },
  {
   "cell_type": "code",
   "execution_count": 64,
   "metadata": {},
   "outputs": [],
   "source": [
    "def test_encode_decode(l):\n",
    "    e = CompressedPostings.encode(l)\n",
    "    d = CompressedPostings.decode(e)\n",
    "    assert d == l\n",
    "    print(l, e)"
   ]
  },
  {
   "cell_type": "markdown",
   "metadata": {},
   "source": [
    "写一些测试样例来确保文档列表的压缩和解压正常运行"
   ]
  },
  {
   "cell_type": "code",
   "execution_count": 65,
   "metadata": {},
   "outputs": [
    {
     "name": "stdout",
     "output_type": "stream",
     "text": [
      "True\n"
     ]
    },
    {
     "data": {
      "text/plain": [
       "'for i in range(218,230,1):\\n    print(p[i])\\nprint(\"\\n\")\\nfor i in range(218,230,1):\\n    print(k[i])'"
      ]
     },
     "execution_count": 65,
     "metadata": {},
     "output_type": "execute_result"
    }
   ],
   "source": [
    "### Begin your code\n",
    "p=[0, 1, 2, 303, 583, 601, 716, 746, 1020, 2008, 3172, 3396, 3397, 3571, 3678, 3716, 3729, 3852, 4042, 4043, 4298, 4299, 4301, 4701, 4868, 5614, 5680, 5919, 5983, 6448, 6471, 6557, 6574, 6763, 7250, 7837, 7952, 7954, 8005, 8222, 8695, 8854, 8869, 8894, 8923, 9389, 9401, 9631, 9975, 10304, 10354, 10421, 10431, 10435, 10448, 10449, 10450, 10514, 10530, 10570, 10578, 11595, 11599, 11702, 11767, 11801, 11977, 12093, 12095, 12099, 12101, 12102, 12103, 12104, 12105, 12106, 12107, 12201, 12673, 12705, 12715, 15387, 15751, 15812, 18542, 19114, 19673, 19675, 19676, 19799, 20126, 20127, 20134, 21504, 23284, 23290, 23294, 23296, 23297, 23300, 23304, 23306, 23308, 23311, 23313, 23315, 23323, 23344, 23644, 23667, 23965, 23973, 24018, 24027, 24030, 24031, 24040, 24063, 24064, 24130, 24133, 24136, 24139, 24140, 24146, 24152, 24206, 24207, 24221, 24227, 24228, 24229, 24231, 24247, 24257, 24260, 24268, 24319, 24322, 24323, 24324, 24330, 24332, 24333, 24335, 24336, 24339, 24340, 24341, 24345, 24359, 24364, 24369, 24374, 24375, 24376, 24377, 24383, 24389, 24391, 24393, 24407, 24408, 24410, 24413, 24425, 24426, 24436, 24446, 24447, 24452, 24466, 24480, 24486, 24499, 24500, 24506, 24521, 24549, 24551, 24558, 24561, 24565, 24570, 24574, 24978, 24985, 24988, 24999, 25008, 25009, 25012, 25013, 25120, 25270, 25548, 25570, 26710, 27270, 27285, 27348, 28014, 28171, 28212, 28259, 28448, 28727, 28731, 28732, 28759, 28760, 29424, 29435, 29450, 29732, 30030, 30195, 30521, 31486, 31758, 31886, 31887, 31888, 31893, 31894, 32222, 32231, 32243, 32559, 32683, 32684, 32731, 32860, 33000, 33013, 33717, 33739, 34226, 34351, 34580, 34826, 34827, 34940, 34959, 35235, 35304, 35389, 35478, 35579, 36139, 36214, 36522, 36932, 36933, 37415, 37418, 37419, 37420, 37422, 37425, 37430, 37433, 37603, 37604, 37605, 37606, 37607, 37608, 37609, 37610, 37611, 37612, 37613, 37614, 37615, 37616, 37617, 37618, 37619, 37620, 37621, 37622, 37623, 37624, 37625, 37626, 37627, 37628, 37629, 37630, 37631, 37632, 37633, 37634, 37635, 37636, 37637, 37638, 37639, 37640, 37641, 37642, 37643, 37644, 37645, 37646, 37811, 37994, 38123, 38202, 38219, 38221, 38692, 38699, 38822, 39114, 39117, 39138, 39145, 39172, 39194, 39272, 39347, 39357, 39358, 39359, 39360, 39437, 40545, 40591, 40652, 40655, 40656, 40662, 40665, 40666, 40797, 42037, 42078, 43000, 43492, 43801, 43803, 43842, 43844, 43964, 44290, 44293, 44295, 44301, 45177, 45203, 45217, 45218, 45221, 46141, 46322, 46326, 46378, 47115, 47137, 47138, 47161, 47385, 47387, 47390, 47394, 47396, 47397, 47398, 47453, 47471, 47605, 47610, 47645, 47646, 48321, 48322, 48337, 48525, 48526, 48530, 50512, 50521, 50902, 51153, 51169, 51461, 51463, 51464, 51504, 51520, 51545, 51546, 51547, 51549, 51551, 51567, 51569, 51614, 51615, 51616, 51639, 51642, 51652, 51654, 51684, 51729, 51774, 51798, 52272, 52273, 52274, 52275, 52276, 52277, 52455, 52511, 52597, 52605, 52608, 52912, 53078, 53421, 54064, 54509, 55245, 55310, 55311, 55495, 55758, 55778, 55797, 55829, 55830, 55863, 55883, 57484, 57499, 57501, 57521, 57538, 57551, 57555, 57560, 57575, 57607, 57608, 57614, 57619, 57625, 58019, 58027, 58375, 58436, 58523, 58686, 58874, 58915, 59052, 59411, 59543, 59566, 59767, 60130, 60131, 60334, 60398, 62587, 62588, 62592, 62593, 62596, 62599, 62602, 62605, 62608, 62609, 62611, 62612, 62620, 62622, 62623, 62626, 62627, 62631, 62632, 62635, 62637, 62645, 62646, 62648, 62649, 62652, 62654, 62657, 62663, 62669, 62670, 62675, 62700, 62701, 62702, 62704, 62717, 63003, 63013, 63439, 63693, 63725, 63727, 63928, 64124, 64159, 64206, 64777, 64778, 65171, 65479, 65540, 65546, 65547, 65722, 65734, 65735, 65739, 65743, 66241, 66326, 66419, 66445, 66446, 66448, 66452, 66454, 66468, 66476, 66717, 66721, 66724, 66890, 66908, 66930, 66958, 67609, 67657, 68254, 68335, 68340, 68343, 68351, 68352, 68353, 68357, 68381, 68382, 68415, 68416, 68417, 68418, 68434, 68436, 68441, 68442, 68443, 68449, 68451, 68454, 68461, 68469, 68471, 68474, 68500, 68502, 68504, 69150, 69151, 69152, 69153, 69154, 69155, 69156, 69157, 69158, 69159, 69160, 69161, 69162, 69163, 69164, 69165, 69166, 69167, 69168, 69169, 69170, 69171, 69172, 69173, 69174, 69175, 69176, 69177, 69178, 69179, 69180, 69181, 69182, 69183, 69184, 69185, 69186, 69187, 69188, 69189, 69190, 69191, 69192, 69193, 69194, 69195, 69196, 69197, 69198, 69199, 69200, 69201, 69202, 69203, 69204, 69205, 69206, 69207, 69208, 69209, 69210, 69211, 69212, 69213, 69214, 69215, 69216, 69217, 69218, 69219, 69220, 69221, 69222, 69223, 69224, 69225, 69226, 69227, 69228, 69229, 69346, 69437, 69707, 69717, 69718, 69719, 69720, 69721, 69722, 69723, 69724, 69725, 69726, 69727, 69728, 69729, 69730, 69731, 69864, 69870, 69949, 70093, 70176, 70181, 70206, 70207, 70251, 70257, 70259, 70260, 70263, 70617, 70618, 70727, 70729, 70736, 70769, 70798, 70847, 70860, 70866, 70870, 71116, 71193, 71199, 71708, 72164, 72167, 72170, 72172, 72181, 72214, 72215, 72216, 72218, 72235, 72345, 72346, 72347, 72348, 72407, 72419, 72420, 72458, 72459, 72461, 72462, 72469, 72474, 72482, 72484, 72494, 72504, 72507, 72508, 72512, 73727, 74074, 74602, 74717, 74765, 75984, 76057, 76230, 76469, 77188, 77215, 77216, 77223, 77230, 77279, 77300, 80688, 80863, 81153, 81237, 81605, 81794, 81898, 82357, 82359, 82394, 82395, 82428, 82429, 82443, 82586, 82587, 82649, 82695, 82980, 83425, 83530, 83771, 83772, 84006, 84111, 84279, 84292, 84434, 84604, 84605, 84626, 84656, 84658, 84725, 84871, 84872, 84961, 84962, 86099, 86103, 86105, 86591, 86885, 87872, 87945, 88461, 89945, 90153, 90450, 90458, 90459, 90533, 90538, 91143, 91146, 91150, 91423, 91640, 91646, 91647, 91716, 91733, 91948, 92038, 92595, 92601, 92706, 92824, 92860, 93091, 93299, 93430, 93431, 93437, 93439, 93443, 93445, 93455, 93470, 93493, 94386, 94582, 94583, 95406, 95433, 95452, 95563, 95587, 95637, 95968, 96596, 96750, 97507, 97653, 97671, 97674, 97712, 97744, 97758, 97761, 97763, 97989]\n",
    "\n",
    "\n",
    "#print(len(p))\n",
    "\n",
    "o=CompressedPostings.encode(p)\n",
    "#print(o)\n",
    "k=CompressedPostings.decode(o)\n",
    "\n",
    "print(k==p)\n",
    "\n",
    "\"\"\"for i in range(218,230,1):\n",
    "    print(p[i])\n",
    "print(\"\\n\")\n",
    "for i in range(218,230,1):\n",
    "    print(k[i])\"\"\"\n",
    "    \n",
    "    \n",
    "### End your code"
   ]
  },
  {
   "cell_type": "markdown",
   "metadata": {},
   "source": [
    "现在让我们创建一个新的输出文件夹并使用`CompressedPostings`来构建压缩索引"
   ]
  },
  {
   "cell_type": "code",
   "execution_count": 66,
   "metadata": {},
   "outputs": [],
   "source": [
    "try: \n",
    "    os.mkdir('output_dir_compressed')\n",
    "except FileExistsError:\n",
    "    pass"
   ]
  },
  {
   "cell_type": "code",
   "execution_count": 67,
   "metadata": {},
   "outputs": [],
   "source": [
    "try: \n",
    "    os.mkdir('toy_output_dir_compressed')\n",
    "except FileExistsError:\n",
    "    pass"
   ]
  },
  {
   "cell_type": "code",
   "execution_count": 68,
   "metadata": {},
   "outputs": [],
   "source": [
    "#玩具数据集测试\n",
    "BSBI_instance_compressed1 = BSBIIndex(data_dir='toy-data', output_dir = 'toy_output_dir_compressed', postings_encoding=CompressedPostings)\n",
    "BSBI_instance_compressed1.index()\n"
   ]
  },
  {
   "cell_type": "code",
   "execution_count": 69,
   "metadata": {},
   "outputs": [],
   "source": [
    "#玩具数据集测试\n",
    "BSBI_instance1 = BSBIIndex(data_dir='toy-data', output_dir = 'toy_output_dir')\n",
    "BSBI_instance1.index()"
   ]
  },
  {
   "cell_type": "code",
   "execution_count": 70,
   "metadata": {},
   "outputs": [],
   "source": [
    "n=list()\n",
    "with InvertedIndexIterator('BSBI', directory='toy_output_dir/') as k:\n",
    "    for i in k:\n",
    "        n.append(i)"
   ]
  },
  {
   "cell_type": "code",
   "execution_count": 71,
   "metadata": {},
   "outputs": [],
   "source": [
    "l=list()\n",
    "with InvertedIndexIterator('BSBI',postings_encoding=CompressedPostings ,directory='toy_output_dir_compressed/') as k:\n",
    "    for i in k:\n",
    "        l.append(i)"
   ]
  },
  {
   "cell_type": "code",
   "execution_count": 72,
   "metadata": {},
   "outputs": [
    {
     "data": {
      "text/plain": [
       "True"
      ]
     },
     "execution_count": 72,
     "metadata": {},
     "output_type": "execute_result"
    }
   ],
   "source": [
    "n==l"
   ]
  },
  {
   "cell_type": "code",
   "execution_count": 73,
   "metadata": {},
   "outputs": [],
   "source": [
    "#正式测试部分\n",
    "BSBI_instance_compressed = BSBIIndex(data_dir='pa1-data', output_dir = 'output_dir_compressed', postings_encoding=CompressedPostings)\n",
    "#BSBI_instance_compressed.index()"
   ]
  },
  {
   "cell_type": "code",
   "execution_count": 74,
   "metadata": {},
   "outputs": [],
   "source": [
    "#正式测试的debug部分，begin\n",
    "BSBI_instance = BSBIIndex(data_dir='pa1-data', output_dir ='output_dir', )"
   ]
  },
  {
   "cell_type": "code",
   "execution_count": 75,
   "metadata": {},
   "outputs": [],
   "source": [
    "x=list()\n",
    "with InvertedIndexIterator('BSBI', directory='output_dir/') as k:\n",
    "    for i in k:\n",
    "        x.append(i)\n",
    "   "
   ]
  },
  {
   "cell_type": "code",
   "execution_count": 76,
   "metadata": {},
   "outputs": [],
   "source": [
    "y=list()\n",
    "with InvertedIndexIterator('BSBI', postings_encoding=CompressedPostings,directory='output_dir_compressed/') as k:\n",
    "    for i in k:\n",
    "        y.append(i)"
   ]
  },
  {
   "cell_type": "code",
   "execution_count": 250,
   "metadata": {},
   "outputs": [],
   "source": [
    "#BSBI_instance_compressed.retrieve(\"we are\")"
   ]
  },
  {
   "cell_type": "code",
   "execution_count": 379,
   "metadata": {},
   "outputs": [
    {
     "name": "stderr",
     "output_type": "stream",
     "text": [
      "IOPub data rate exceeded.\n",
      "The Jupyter server will temporarily stop sending output\n",
      "to the client in order to avoid crashing it.\n",
      "To change this limit, set the config variable\n",
      "`--ServerApp.iopub_data_rate_limit`.\n",
      "\n",
      "Current values:\n",
      "ServerApp.iopub_data_rate_limit=1000000.0 (bytes/sec)\n",
      "ServerApp.rate_limit_window=3.0 (secs)\n",
      "\n"
     ]
    },
    {
     "name": "stdout",
     "output_type": "stream",
     "text": [
      "[9999]\n"
     ]
    },
    {
     "name": "stderr",
     "output_type": "stream",
     "text": [
      "IOPub data rate exceeded.\n",
      "The Jupyter server will temporarily stop sending output\n",
      "to the client in order to avoid crashing it.\n",
      "To change this limit, set the config variable\n",
      "`--ServerApp.iopub_data_rate_limit`.\n",
      "\n",
      "Current values:\n",
      "ServerApp.iopub_data_rate_limit=1000000.0 (bytes/sec)\n",
      "ServerApp.rate_limit_window=3.0 (secs)\n",
      "\n"
     ]
    },
    {
     "name": "stdout",
     "output_type": "stream",
     "text": [
      "[19998]\n"
     ]
    }
   ],
   "source": [
    "BSBI_instance_test1 = BSBIIndex(data_dir='pa1-data-test', output_dir = 'output_dir_test', postings_encoding=CompressedPostings)\n",
    "BSBI_instance_test1.index()"
   ]
  },
  {
   "cell_type": "code",
   "execution_count": 381,
   "metadata": {},
   "outputs": [
    {
     "name": "stderr",
     "output_type": "stream",
     "text": [
      "IOPub data rate exceeded.\n",
      "The Jupyter server will temporarily stop sending output\n",
      "to the client in order to avoid crashing it.\n",
      "To change this limit, set the config variable\n",
      "`--ServerApp.iopub_data_rate_limit`.\n",
      "\n",
      "Current values:\n",
      "ServerApp.iopub_data_rate_limit=1000000.0 (bytes/sec)\n",
      "ServerApp.rate_limit_window=3.0 (secs)\n",
      "\n"
     ]
    },
    {
     "name": "stdout",
     "output_type": "stream",
     "text": [
      "[9999]\n"
     ]
    },
    {
     "name": "stderr",
     "output_type": "stream",
     "text": [
      "IOPub data rate exceeded.\n",
      "The Jupyter server will temporarily stop sending output\n",
      "to the client in order to avoid crashing it.\n",
      "To change this limit, set the config variable\n",
      "`--ServerApp.iopub_data_rate_limit`.\n",
      "\n",
      "Current values:\n",
      "ServerApp.iopub_data_rate_limit=1000000.0 (bytes/sec)\n",
      "ServerApp.rate_limit_window=3.0 (secs)\n",
      "\n"
     ]
    },
    {
     "name": "stdout",
     "output_type": "stream",
     "text": [
      "[19998]\n"
     ]
    }
   ],
   "source": [
    "BSBI_instance_test2 = BSBIIndex(data_dir='pa1-data-test', output_dir = 'output_dir_test2')\n",
    "BSBI_instance_test2.index()"
   ]
  },
  {
   "cell_type": "code",
   "execution_count": 402,
   "metadata": {},
   "outputs": [
    {
     "name": "stdout",
     "output_type": "stream",
     "text": [
      "(0, [0, 1, 2, 3716, 4868, 9975, 3852, 7952, 3729, 7954, 8854, 6557, 7837, 5919, 8222, 9631, 8869, 9389, 6574, 303, 5680, 6448, 9401, 8894, 3396, 3397, 8005, 583, 6471, 4042, 4043, 716, 4298, 4299, 4301, 7250, 2008, 601, 8923, 4701, 3678, 5983, 3172, 746, 6763, 5614, 3571, 8695, 1020])\n"
     ]
    }
   ],
   "source": [
    "x=list()\n",
    "with InvertedIndexIterator('index_0', directory='output_dir_test2/') as k:\n",
    "    print(next(k))"
   ]
  },
  {
   "cell_type": "code",
   "execution_count": 398,
   "metadata": {},
   "outputs": [],
   "source": [
    "y=list()\n",
    "with InvertedIndexIterator('index_0', postings_encoding=CompressedPostings,directory='output_dir_test/') as k:\n",
    "    for i in k:\n",
    "        y.append(i)"
   ]
  },
  {
   "cell_type": "code",
   "execution_count": 81,
   "metadata": {},
   "outputs": [],
   "source": [
    "BSBI_instance_test3 = BSBIIndex(data_dir='pa1-data-test', output_dir = 'output_dir_test3')\n",
    "for block_dir_relative in sorted(next(os.walk(BSBI_instance_test3.data_dir))[1]):#将文件中的子目录排序\n",
    "        td_pairs = BSBI_instance_test3.parse_block(block_dir_relative) #切分块\n",
    "        index_id = 'index_'+block_dir_relative\n",
    "        with InvertedIndexWriter(index_id, directory=BSBI_instance_test3.output_dir, \n",
    "                                 postings_encoding=\n",
    "                                 BSBI_instance_test3.postings_encoding) as index:\n",
    "            BSBI_instance_test3.invert_write(td_pairs, index)\n",
    "            td_pairs = None\n",
    "        break\n",
    "BSBI_instance_test3.save()\n",
    "        \n",
    "       \n",
    "                "
   ]
  },
  {
   "cell_type": "code",
   "execution_count": 193,
   "metadata": {},
   "outputs": [],
   "source": [
    "x=list()\n",
    "with InvertedIndexIterator('BSBI', directory='output_dir/') as k:\n",
    "    for i in k:\n",
    "        x.append(i)\n",
    "#正式测试debug部分，end\n"
   ]
  },
  {
   "cell_type": "markdown",
   "metadata": {},
   "source": [
    "像之前一样，用已构造好的查询语句来测试是否正常运行"
   ]
  },
  {
   "cell_type": "code",
   "execution_count": 80,
   "metadata": {},
   "outputs": [
    {
     "name": "stdout",
     "output_type": "stream",
     "text": [
      "Results match for query: we are\n",
      "Results match for query: stanford class\n",
      "Results match for query: stanford students\n",
      "Results match for query: very cool\n",
      "Results match for query: the\n",
      "Results match for query: a\n",
      "Results match for query: the the\n",
      "Results match for query: stanford computer science\n"
     ]
    }
   ],
   "source": [
    "for i in range(1, 9):\n",
    "    with open('dev_queries/query.' + str(i)) as q:\n",
    "        query = q.read()\n",
    "        my_results = [os.path.normpath(path) for path in BSBI_instance_compressed.retrieve(query)]\n",
    "        with open('dev_output/' + str(i) + '.out') as o:\n",
    "            reference_results = [os.path.normpath(x.strip()) for x in o.readlines()]\n",
    "            assert set(my_results) == set(reference_results), \"Results DO NOT match for query: \"+query.strip()\n",
    "        print(\"Results match for query:\", query.strip())"
   ]
  },
  {
   "cell_type": "markdown",
   "metadata": {},
   "source": [
    "# 额外的编码方式 (10%)"
   ]
  },
  {
   "cell_type": "markdown",
   "metadata": {},
   "source": [
    "通过补充`ECCompressedPostings`的`encode` 和 `decode`方法来实现一种额外的索引压缩方式。在我们课上学的就是**gamma-encoding** 。另外如果大家感兴趣的话也可以了解**Delta Encoding** ，[ALGORITHM SIMPLE-9](https://github.com/manning/CompressionAlgorithms#simple-9) 等。\n",
    "\n",
    "你应该以多字节（而不是bits）来存储倒排记录表，因为索引的长度和位置都存的是字节信息。"
   ]
  },
  {
   "cell_type": "code",
   "execution_count": 208,
   "metadata": {},
   "outputs": [],
   "source": [
    "import math\n",
    "class ECCompressedPostings:\n",
    "    \n",
    "    #If you need any extra helper methods you can add them here \n",
    "    ### Begin your code\n",
    "\n",
    "    ### End your code\n",
    "    #长度(log(x)+1)+偏移原来数字的二进制去掉首位, 要求有序,将0编码为1\n",
    "    @staticmethod\n",
    "    def length(a):\n",
    "        k=int(math.log2(a))+1\n",
    "        l=2**k-2\n",
    "        return l\n",
    "    @staticmethod\n",
    "    def gama(a):\n",
    "        h=ECCompressedPostings.length(a)\n",
    "        x=int(math.log2(h+1))+1\n",
    "        z=2*x-1\n",
    "        k=bin(h)[2:]\n",
    "        m=bytearray()\n",
    "        while len(k)>0:\n",
    "            if len(k)>8:\n",
    "                n=k[0:8]\n",
    "                p=int(n,2)\n",
    "                m.append(p)\n",
    "                k=k[8:]\n",
    "            else:\n",
    "                p=int(k,2)\n",
    "                m.append(p)\n",
    "                k=\"\"\n",
    "        q=bin(a)[3:]\n",
    "        while len(q)>0:\n",
    "            if len(q)>8:\n",
    "                n=q[0:8]\n",
    "                p=int(n,2)\n",
    "                m.append(p)\n",
    "                q=q[8:]\n",
    "            else:\n",
    "                p=int(q,2)\n",
    "                m.append(p)\n",
    "                q=\"\"\n",
    "        return m\n",
    "         ### End your code\n",
    "    @staticmethod\n",
    "    def encode(postings_list):\n",
    "        \"\"\"Encodes `postings_list` \n",
    "        \n",
    "        Parameters\n",
    "        ----------\n",
    "        postings_list: List[int]\n",
    "            The postings list to be encoded\n",
    "        \n",
    "        Returns\n",
    "        -------\n",
    "        bytes: \n",
    "            Bytes reprsentation of the compressed postings list \n",
    "        \"\"\"\n",
    "        ### Begin your code\n",
    "        m=bytearray()\n",
    "        for i in postings_list:\n",
    "            if i==0:\n",
    "                m.append(1)\n",
    "                continue\n",
    "            h=ECCompressedPostings.gama(i)\n",
    "            for j in h:\n",
    "                m.append(j)\n",
    "        return m\n",
    "            \n",
    "        \n",
    "        \n",
    "\n",
    "        ### End your code\n",
    "\n",
    "        \n",
    "    @staticmethod\n",
    "    def decode(encoded_postings_list):\n",
    "        \"\"\"Decodes a byte representation of compressed postings list\n",
    "        \n",
    "        Parameters\n",
    "        ----------\n",
    "        encoded_postings_list: bytes\n",
    "            Bytes representation as produced by `CompressedPostings.encode` \n",
    "            \n",
    "        Returns\n",
    "        -------\n",
    "        List[int]\n",
    "            Decoded postings list (each posting is a docId)\n",
    "        \"\"\"\n",
    "        ### Begin your code\n",
    "        m=copy.deepcopy(encoded_postings_list)\n",
    "        k=\"\"\n",
    "        t=0\n",
    "        u=0\n",
    "        n=0\n",
    "        x=list()\n",
    "        o=list()\n",
    "        kk=0\n",
    "        if m[0]==1:\n",
    "            x.append(0)\n",
    "            kk+=1\n",
    "            if len(m)>1:\n",
    "                if m[1]==0:\n",
    "                    x.append(1)\n",
    "                    kk+=1\n",
    "        if m[0]==0:\n",
    "            x.append(1)\n",
    "            kk+=1\n",
    "        for i in range(kk,len(m),1):\n",
    "            if t==0:\n",
    "                if m[i]%2!=0:\n",
    "                    k+=\"11111111\"\n",
    "                else:\n",
    "                    k+=bin(m[i])[2:]\n",
    "                    \n",
    "                    l=len(k)\n",
    "                    k=\"\"\n",
    "                    u=l-1\n",
    "                    t=1\n",
    "                    n=math.ceil(u/8)\n",
    "                    \n",
    "                    \n",
    "            else:\n",
    "                o.append(m[i])\n",
    "                n-=1\n",
    "                if n==0:\n",
    "                    t=0\n",
    "                    v=\"\"\n",
    "                    for i in range(len(o)):\n",
    "                        if i!=len(o)-1:\n",
    "                            pp=bin(o[i])[2:]\n",
    "                            if len(pp)!=8:\n",
    "                                for j in range(8-len(pp)):\n",
    "                                    v+='0'\n",
    "                            v+=pp\n",
    "                        elif u%8!=0:\n",
    "                            q=u%8\n",
    "                            a=bin(o[i])[2:]\n",
    "                            q-=len(a)\n",
    "                            bb=\"\"\n",
    "                            for i in range(q):\n",
    "                                v=v+'0'\n",
    "                            v=v+a\n",
    "                        else:\n",
    "                            pp=bin(o[i])[2:]\n",
    "                            if len(pp)!=8:\n",
    "                                for j in range(8-len(pp)):\n",
    "                                    v+='0'\n",
    "                            v+=pp\n",
    "                    v='1'+v\n",
    "                    o=[]\n",
    "                    x.append(int(v,2))\n",
    "                \n",
    "        return x\n",
    "            \n",
    "                            \n",
    "                \n",
    "                \n",
    "                \n",
    "                \n",
    "                \n",
    "                \n",
    "                \n",
    "            \n",
    "                \n",
    "        \n",
    "\n",
    "        ### End your code\n",
    "    "
   ]
  },
  {
   "cell_type": "code",
   "execution_count": 211,
   "metadata": {},
   "outputs": [],
   "source": [
    "#代码测试\n",
    "try: \n",
    "    os.mkdir('output_dir_eccompressed')\n",
    "except FileExistsError:\n",
    "    pass"
   ]
  },
  {
   "cell_type": "code",
   "execution_count": 212,
   "metadata": {},
   "outputs": [],
   "source": [
    "try: \n",
    "    os.mkdir('toy_output_dir_eccompressed')\n",
    "except FileExistsError:\n",
    "    pass"
   ]
  },
  {
   "cell_type": "code",
   "execution_count": 232,
   "metadata": {},
   "outputs": [],
   "source": [
    "BSBI_instance_test5 = BSBIIndex(data_dir='toy-data', output_dir = 'toy_output_dir_eccompressed',postings_encoding=ECCompressedPostings)\n",
    "BSBI_instance_test5.index()"
   ]
  },
  {
   "cell_type": "code",
   "execution_count": 233,
   "metadata": {},
   "outputs": [],
   "source": [
    "BSBI_instance_test4 = BSBIIndex(data_dir='toy-data', output_dir = 'toy_output_dir')\n",
    "BSBI_instance_test4.index()"
   ]
  },
  {
   "cell_type": "code",
   "execution_count": 234,
   "metadata": {},
   "outputs": [],
   "source": [
    "h=list()\n",
    "with InvertedIndexIterator('BSBI',postings_encoding=ECCompressedPostings,directory='toy_output_dir_eccompressed/') as k:\n",
    "    for i in k:\n",
    "        h.append(i)"
   ]
  },
  {
   "cell_type": "code",
   "execution_count": 235,
   "metadata": {},
   "outputs": [],
   "source": [
    "l=list()\n",
    "with InvertedIndexIterator('BSBI',directory='toy_output_dir/') as k:\n",
    "    for i in k:\n",
    "        l.append(i)"
   ]
  },
  {
   "cell_type": "code",
   "execution_count": 238,
   "metadata": {},
   "outputs": [
    {
     "data": {
      "text/plain": [
       "True"
      ]
     },
     "execution_count": 238,
     "metadata": {},
     "output_type": "execute_result"
    }
   ],
   "source": [
    "h==l"
   ]
  },
  {
   "cell_type": "code",
   "execution_count": 239,
   "metadata": {},
   "outputs": [],
   "source": [
    "#正式代码测试\n",
    "BSBI_instance_test6 = BSBIIndex(data_dir='pa1-data', output_dir = 'output_dir_eccompressed',postings_encoding=ECCompressedPostings)\n",
    "BSBI_instance_test6.index()"
   ]
  },
  {
   "cell_type": "code",
   "execution_count": 241,
   "metadata": {},
   "outputs": [
    {
     "name": "stdout",
     "output_type": "stream",
     "text": [
      "Results match for query: we are\n",
      "Results match for query: stanford class\n",
      "Results match for query: stanford students\n",
      "Results match for query: very cool\n",
      "Results match for query: the\n",
      "Results match for query: a\n",
      "Results match for query: the the\n",
      "Results match for query: stanford computer science\n"
     ]
    }
   ],
   "source": [
    "for i in range(1, 9):\n",
    "    with open('dev_queries/query.' + str(i)) as q:\n",
    "        query = q.read()\n",
    "        my_results = [os.path.normpath(path) for path in BSBI_instance_test6.retrieve(query)]\n",
    "        with open('dev_output/' + str(i) + '.out') as o:\n",
    "            reference_results = [os.path.normpath(x.strip()) for x in o.readlines()]\n",
    "            assert set(my_results) == set(reference_results), \"Results DO NOT match for query: \"+query.strip()\n",
    "        print(\"Results match for query:\", query.strip())"
   ]
  },
  {
   "cell_type": "markdown",
   "metadata": {},
   "source": [
    "# 作业提交\n",
    "\n",
    "本次作业截止日期为10.8。请大家在截止日期前将代码（包含运行结果，测试内容不作要求），实验报告（可单独撰写，也可整合在jupyter notebook中）一起提交到nkulxb2022@163.com，命名方式为`学号_姓名_hw1`。"
   ]
  },
  {
   "cell_type": "code",
   "execution_count": null,
   "metadata": {},
   "outputs": [],
   "source": []
  },
  {
   "cell_type": "code",
   "execution_count": null,
   "metadata": {},
   "outputs": [],
   "source": []
  },
  {
   "cell_type": "code",
   "execution_count": null,
   "metadata": {},
   "outputs": [],
   "source": []
  },
  {
   "cell_type": "code",
   "execution_count": null,
   "metadata": {},
   "outputs": [],
   "source": []
  },
  {
   "cell_type": "code",
   "execution_count": null,
   "metadata": {},
   "outputs": [],
   "source": []
  },
  {
   "cell_type": "code",
   "execution_count": null,
   "metadata": {},
   "outputs": [],
   "source": []
  }
 ],
 "metadata": {
  "kernelspec": {
   "display_name": "Python 3 (ipykernel)",
   "language": "python",
   "name": "python3"
  },
  "language_info": {
   "codemirror_mode": {
    "name": "ipython",
    "version": 3
   },
   "file_extension": ".py",
   "mimetype": "text/x-python",
   "name": "python",
   "nbconvert_exporter": "python",
   "pygments_lexer": "ipython3",
   "version": "3.9.12"
  },
  "toc": {
   "base_numbering": 1,
   "nav_menu": {
    "height": "66px",
    "width": "252px"
   },
   "number_sections": true,
   "sideBar": true,
   "skip_h1_title": false,
   "title_cell": "Table of Contents",
   "title_sidebar": "Contents",
   "toc_cell": false,
   "toc_position": {},
   "toc_section_display": "block",
   "toc_window_display": false
  }
 },
 "nbformat": 4,
 "nbformat_minor": 4
}
